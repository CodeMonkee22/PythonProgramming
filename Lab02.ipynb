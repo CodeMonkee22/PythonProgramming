{
 "cells": [
  {
   "cell_type": "markdown",
   "id": "42b1dc4f",
   "metadata": {},
   "source": [
    "# Lab 2 Discrete Probability Distributions\n",
    "\n",
    "In this lab we are going to investigate the discrete probability distributions which we will see in week 4.\n",
    "\n"
   ]
  },
  {
   "cell_type": "markdown",
   "id": "a232485e",
   "metadata": {},
   "source": [
    "## Part 1: Plotting Histograms of Data \n",
    "\n",
    "First we'll generate and work with some random data. We'll use the random package to help with this. \n",
    "We create a list with 20 random integers between 0 and 20. \n",
    "\n",
    "Note that range(n) produces the numbers from 0 to n-1, so range(20) gives us 20 numbers to iterate over. See here:\n"
   ]
  },
  {
   "cell_type": "code",
   "execution_count": null,
   "id": "56c2413b",
   "metadata": {},
   "outputs": [],
   "source": [
    "list(range(20))"
   ]
  },
  {
   "cell_type": "markdown",
   "id": "c0f4fa12",
   "metadata": {},
   "source": [
    "Often, we don't really care what the exact numbers are, because we are just using them to create an index, i, that we iterate over. In some cases, we don't actually compute anything with i, like in the example below. "
   ]
  },
  {
   "cell_type": "code",
   "execution_count": null,
   "id": "989764f1",
   "metadata": {},
   "outputs": [],
   "source": [
    "import random\n",
    "r1 = [random.randint(0,20) for i in range(20)]\n",
    "r1"
   ]
  },
  {
   "cell_type": "markdown",
   "id": "ad27192e",
   "metadata": {},
   "source": [
    "Depending on the random number generator chosen, the randomly generated numbers will come from different distributions. Here, you might wonder if the (0,20) in the random number generation function really gives numbers up to 20 or only up to 19 - can you think of a quick test to find out? \n",
    "\n",
    "You should find that is does include both endpoint. \n"
   ]
  },
  {
   "cell_type": "markdown",
   "id": "f63c3b35",
   "metadata": {},
   "source": [
    "Next we make a histogram, I'm going to introduce a new set of (not so random) data which will be useful in illustrating some issues with histograms. "
   ]
  },
  {
   "cell_type": "code",
   "execution_count": null,
   "id": "72c7534e",
   "metadata": {},
   "outputs": [],
   "source": [
    "r2 = [4,4,5,5,5,5,7,8,9,9,10,10,11,15,16,16,18,18,18,18]\n",
    "\n",
    "import matplotlib.pyplot as plt\n",
    "plt.hist(r2)\n"
   ]
  },
  {
   "cell_type": "markdown",
   "id": "76ea7774",
   "metadata": {},
   "source": [
    "Can you identify two separate problems with this histogram? \n",
    "\n",
    "<details> \n",
    "    <summary markdown=\"span\"> Click here to reveal </summary> \n",
    "    \n",
    "    1. It doesn't show all of the possible data, as we are viewing a random sample of numbers between 1 and 20, we might want this whole range shown. \n",
    "    2. The numbers 4 and 5 are in the same bin. In fact, if you look at the data that Python gives just above the plot, the second array shows the bins, we can see that one goes from 4. to 5.4\n",
    "    \n",
    "</details>\n",
    "    \n",
    "    "
   ]
  },
  {
   "cell_type": "markdown",
   "id": "9de1cafb",
   "metadata": {},
   "source": [
    "Let's try for a better histogram. Take a look at the [documentation for pyplot.hist](https://matplotlib.org/stable/api/_as_gen/matplotlib.pyplot.hist.html) to see what parameters are available. \n",
    "\n",
    "<details><summary markdown=\"span\"> Click here for a hint </summary> \n",
    "In particular we might be interested in bins, range and align. If you want to set a parameter you just include something like bins=20 in your hist command. \n",
    "</details>"
   ]
  },
  {
   "cell_type": "code",
   "execution_count": null,
   "id": "b4a1c946",
   "metadata": {},
   "outputs": [],
   "source": [
    "# Try some code here to fix these problems\n",
    "\n",
    "\n",
    "plt.hist(r2,range=(0,20),bins=20)\n",
    "\n",
    "\n"
   ]
  },
  {
   "cell_type": "markdown",
   "id": "045d6062",
   "metadata": {},
   "source": [
    "Here are some further tricks. I will use plt.xticks to set labels on the x axis and use align to centre the bins over integers - we do align left, because the bins are of form [1,2), [2,3) and so on.\n",
    "\n",
    "Rather than specifying the number of bins, I give it a range, this defines the start of each bin at an integer. \n",
    "\n",
    "You don't need to know all of this in advance, you can try it, see how it looks and then adjust parameters to deal with problems. \n"
   ]
  },
  {
   "cell_type": "code",
   "execution_count": null,
   "id": "700d28e2",
   "metadata": {},
   "outputs": [],
   "source": [
    "plt.xticks(range(21))\n",
    "plt.hist(r2,bins=range(22),range=(0,20),align='left')\n",
    "\n",
    "\n",
    "\n"
   ]
  },
  {
   "cell_type": "markdown",
   "id": "f9e4cc97",
   "metadata": {},
   "source": [
    "Now try something similar with your random data r1 "
   ]
  },
  {
   "cell_type": "code",
   "execution_count": null,
   "id": "9fd9f07e",
   "metadata": {},
   "outputs": [],
   "source": [
    "\n",
    "\n",
    "\n"
   ]
  },
  {
   "cell_type": "markdown",
   "id": "c361c89e",
   "metadata": {},
   "source": [
    "Now, generate a lot more data points - say 1000, and plot the corresponding histogram - can you guess what it should look like before plotting? \n"
   ]
  },
  {
   "cell_type": "code",
   "execution_count": null,
   "id": "f1d4b48b",
   "metadata": {},
   "outputs": [],
   "source": [
    "\n",
    "\n",
    "\n"
   ]
  },
  {
   "cell_type": "markdown",
   "id": "c13b66c6",
   "metadata": {},
   "source": [
    "It should look fairly flat, this is because we are randomly selecting with equal probability, instead we can generate random data using probability distributions. "
   ]
  },
  {
   "cell_type": "markdown",
   "id": "01b1be9b",
   "metadata": {},
   "source": [
    "## 2. The binomial distribution - experimenting with data \n",
    "\n",
    "Now we will generate some random data using the binomial distribution. We can access probability distributions using the stats package in scipy. \n",
    "If you get an error because scipy is not installed then you need to install it. You can do this in Anaconda. In the main left hand menu go to \"Environments\", then search for scipy, there should be an option to install it. \n",
    "\n"
   ]
  },
  {
   "cell_type": "code",
   "execution_count": null,
   "id": "f24ad1e2",
   "metadata": {},
   "outputs": [],
   "source": [
    "\n",
    "from scipy import stats\n",
    "\n",
    "bn1 = stats.binom.rvs(n=5,p=0.5,size=20)\n",
    "bn1\n",
    "\n",
    "\n"
   ]
  },
  {
   "cell_type": "markdown",
   "id": "090e749d",
   "metadata": {},
   "source": [
    "Can you interpret what this data represents? Try changing the parameters in the definition to explore what happens to the data. \n",
    "\n",
    "<details> \n",
    "    <summary markdown=\"span\"> Click here to reveal </summary> \n",
    "    \n",
    "            Each entry in the list is the number of successes in a series of 5 random trials with a\n",
    "    0.5 probability of success. \n",
    "    \n",
    "</details>"
   ]
  },
  {
   "cell_type": "code",
   "execution_count": null,
   "id": "3c95d170",
   "metadata": {},
   "outputs": [],
   "source": [
    "# now lets plot a histogram, I'll redefine bn1 first in case you changed the definition above\n",
    "\n",
    "bn1 = stats.binom.rvs(n=5,p=0.5,size=20)\n",
    "\n",
    "# put in code to make a histogram here \n",
    "\n",
    "\n",
    "\n"
   ]
  },
  {
   "cell_type": "markdown",
   "id": "b11357a2",
   "metadata": {},
   "source": [
    "Once you have some nice code to produce a histogram you can rerun it see different random data. \n",
    "Now change it to generate much more data, 20 trials and 1000 numbers, call this bn2. \n"
   ]
  },
  {
   "cell_type": "code",
   "execution_count": null,
   "id": "6c24e76c",
   "metadata": {},
   "outputs": [],
   "source": [
    "# define bn2 here \n",
    "\n",
    "\n",
    "\n",
    "\n",
    "\n"
   ]
  },
  {
   "cell_type": "markdown",
   "id": "00b69524",
   "metadata": {},
   "source": [
    "We should see that the shape is very different to the distribution we had for the uniform random data in part 1.\n",
    "Now try changing the probability of success and look at the result. "
   ]
  },
  {
   "cell_type": "code",
   "execution_count": null,
   "id": "6b1b1be4",
   "metadata": {},
   "outputs": [],
   "source": [
    "# try plotting a couple of different probabilities \n",
    "# do a probability lower than 0.5, call it bn3\n",
    "\n",
    "\n",
    "\n",
    "\n",
    "\n"
   ]
  },
  {
   "cell_type": "code",
   "execution_count": null,
   "id": "2726f4c2",
   "metadata": {},
   "outputs": [],
   "source": [
    "# do a probability higher than 0.5, call it bn4 \n",
    "\n",
    "\n",
    "\n",
    "\n",
    "\n"
   ]
  },
  {
   "cell_type": "markdown",
   "id": "a5313389",
   "metadata": {},
   "source": [
    "We can also calculate the mean and variance, these are methods associated with the random variable, for example for bn1 we can do bn1.mean() and bn1.var() \n",
    "Try calculating the mean and variance of all of our binomial random variable samples so far. \n"
   ]
  },
  {
   "cell_type": "code",
   "execution_count": null,
   "id": "c389b890",
   "metadata": {},
   "outputs": [],
   "source": [
    "\n",
    "print('The mean of bn1 is ',bn1.mean())\n",
    "print('The variance of bn1 is',bn1.var())\n",
    "\n",
    "#do the rest yourself here \n",
    "\n",
    "\n",
    "\n",
    "\n",
    "\n",
    "\n"
   ]
  },
  {
   "cell_type": "markdown",
   "id": "f66df57f",
   "metadata": {},
   "source": [
    "The theoretical mean for the binomial distribution is np, but for a given random sample it won't be exactly that. We do expect that as we increase the amount of data we look at, we will approach this. \n",
    "\n",
    "We will now carry out some experiments in order to observe this. We will generate a series of data sets and compute the mean for each, and look at what happens as the size of the data sets increases, then we can plot this data alongside the theoretical mean. \n",
    "\n",
    "**Try repeating for different values of n,p and size to explore.**\n",
    "\n"
   ]
  },
  {
   "cell_type": "code",
   "execution_count": null,
   "id": "a6012a1e",
   "metadata": {},
   "outputs": [],
   "source": [
    "\n",
    "import numpy as np\n",
    "# we initialise a list for data. This is so we can build our data by adding one at a time to the existing data \n",
    "# rather than generating a whole new data set each time. This is why we need numpy too, as our data is a list, \n",
    "# the .mean() method for random variables won't work, but numpy has a similar function. \n",
    "D = []\n",
    "\n",
    "# we initialise a list which will store the means \n",
    "M = []\n",
    "\n",
    "# I also make one for the theoretical mean, this is constant here, but setting it up this \n",
    "# way will be useful for what we do next. By building this list in the same loop as M we ensure that\n",
    "# they are the same size and can be plotted together \n",
    "tm=[]\n",
    "\n",
    "# it is also useful to set n and p here. \n",
    "n=10\n",
    "p=0.2\n",
    "\n",
    "\n",
    "size = 100\n",
    "\n",
    "for i in range(1,size):\n",
    "    D.append(stats.binom.rvs(n,p))\n",
    "    M.append(np.mean(D))\n",
    "    tm.append(n*p)\n",
    "    \n",
    "# this gives the x-axis of our plot \n",
    "x = np.arange(1,size)  \n",
    "\n",
    "plt.plot(x,M) \n",
    "plt.plot(x,tm)\n",
    "plt.show()\n",
    "    \n",
    "    \n",
    "\n",
    "    \n",
    "    \n",
    "    \n",
    "    \n",
    "    \n",
    "    "
   ]
  },
  {
   "cell_type": "markdown",
   "id": "825f2a46",
   "metadata": {},
   "source": [
    "Now do the same analysis for the Variance. Measure the variance as your sample size changes or as the number of trials changes. The theoretical value for the variance is np(1-p). Produce versions of the plots above for variance. Once again, experiment with different parameters. "
   ]
  },
  {
   "cell_type": "code",
   "execution_count": null,
   "id": "f58f71e6",
   "metadata": {},
   "outputs": [],
   "source": [
    "\n",
    "\n",
    "\n",
    "\n",
    "\n"
   ]
  },
  {
   "cell_type": "code",
   "execution_count": null,
   "id": "98d13323",
   "metadata": {},
   "outputs": [],
   "source": [
    "\n"
   ]
  },
  {
   "cell_type": "code",
   "execution_count": null,
   "id": "ddcd5aa6",
   "metadata": {},
   "outputs": [],
   "source": [
    "\n",
    "\n",
    "\n",
    "\n",
    "\n"
   ]
  },
  {
   "cell_type": "markdown",
   "id": "dd0b6746",
   "metadata": {},
   "source": [
    "# 3. Binomial Distribution calculations \n",
    "\n",
    "We have been working with random data generated using a binomial distribution, now we will work with the actual distribution and see how to calculate probabilities for binomial random variables. "
   ]
  },
  {
   "cell_type": "code",
   "execution_count": null,
   "id": "c44c0a21",
   "metadata": {},
   "outputs": [],
   "source": [
    "# first we will set n and p \n",
    "n = 5 \n",
    "p = 0.5 \n",
    "\n",
    "# now we define a binomial random variable \n",
    "# by default it expects n amd p first so we can just put those as arguments \n",
    "X = stats.binom(n,p)\n",
    "\n",
    "# now we can work out probabilities with probability mass function (pmf) and cumulative density function (cdf) \n",
    "\n",
    "print('An example of the pmf is X.pmf(2)=',X.pmf(3))\n",
    "print('An example of the cdf is X.cdf(2)=',X.cdf(3))\n",
    "\n",
    "\n",
    "\n",
    "\n",
    "\n"
   ]
  },
  {
   "cell_type": "markdown",
   "id": "f1890552",
   "metadata": {},
   "source": [
    "Can you see what these are calculating? \n",
    "Try a few more values to investigate \n"
   ]
  },
  {
   "cell_type": "code",
   "execution_count": null,
   "id": "c86d42df",
   "metadata": {},
   "outputs": [],
   "source": [
    "# try here "
   ]
  },
  {
   "cell_type": "markdown",
   "id": "e6b8042f",
   "metadata": {},
   "source": [
    "\n",
    "<details> \n",
    "    <summary markdown=\"span\"> Click here for an explanation </summary> \n",
    "    \n",
    "            The pmf gives the probability of any particular outcome. For example X.pmf(3) gives the probability of exactly 3 successes in n trials with a probability p of success each time. \n",
    "    The cdf gives the probability of up to that many successes so X.cdf(3) gives the probability of 3 or fewer successes. \n",
    "    \n",
    "</details>"
   ]
  },
  {
   "cell_type": "markdown",
   "id": "804d793f",
   "metadata": {},
   "source": [
    "We can plot them as well, this time we'll see how to do bar plots in pyplot. "
   ]
  },
  {
   "cell_type": "code",
   "execution_count": null,
   "id": "e53a6955",
   "metadata": {},
   "outputs": [],
   "source": [
    "# first we make a range of x values \n",
    "x = range(n+1)\n",
    "\n",
    "plt.bar(x,X.cdf(x),label='cdf')\n",
    "plt.bar(x,X.pmf(x),label='pmf')\n",
    "plt.legend()\n",
    "plt.show()\n",
    "\n",
    "\n",
    "\n",
    "\n",
    "\n",
    "\n",
    "\n"
   ]
  },
  {
   "cell_type": "markdown",
   "id": "9c59e4f2",
   "metadata": {},
   "source": [
    "Using these functions calculate the following. Suppose a fair coin is tossed 5 times, what is the probability of \n",
    "\n",
    "(a) getting exactly 1 head\n",
    "\n",
    "(b) getting at most 2 heads \n"
   ]
  },
  {
   "cell_type": "code",
   "execution_count": null,
   "id": "8738ad3a",
   "metadata": {},
   "outputs": [],
   "source": [
    "#calculate here \n",
    "\n",
    "\n"
   ]
  },
  {
   "cell_type": "markdown",
   "id": "2cbe53fd",
   "metadata": {},
   "source": [
    "Now suppose a biased coin is tossed 1000 times. It has a probability of 0.4 of coming up heads Find the probability that \n",
    "\n",
    "(a) There are at least 430 heads. \n",
    "(b) There are at most 390 heads. \n",
    "(c) There are between 300 and 400 heads. "
   ]
  },
  {
   "cell_type": "code",
   "execution_count": null,
   "id": "022cd054",
   "metadata": {},
   "outputs": [],
   "source": [
    "\n",
    "\n",
    "\n",
    "\n"
   ]
  },
  {
   "cell_type": "markdown",
   "id": "d56c603b",
   "metadata": {},
   "source": [
    "Finally, try plotting the pmf and cdf for large n and various choices of p. In this case there are so many bars that they are indistinct so we use a line plot instead, to do this simply use plt.plot rather than plt.bar (remember we did these in Lab 1). \n",
    "\n",
    "You'll find that it looks like a smooth line and the shape might look familiar - for certain parameters the binomial distribution is approximated by the normal distribution - we'll come back to that later in the course when we look at continuous probability distributions. \n",
    "\n",
    "For larger n these won't work well on the same plot so you might want to do them separately instead. "
   ]
  },
  {
   "cell_type": "code",
   "execution_count": null,
   "id": "b6b0e102",
   "metadata": {},
   "outputs": [],
   "source": [
    "\n",
    "\n",
    "\n",
    "\n",
    "\n"
   ]
  },
  {
   "cell_type": "code",
   "execution_count": null,
   "id": "d2a6a1e3",
   "metadata": {},
   "outputs": [],
   "source": [
    "\n"
   ]
  },
  {
   "cell_type": "markdown",
   "id": "7a78baeb",
   "metadata": {},
   "source": [
    "# Extension: the Poisson Distribution \n",
    "Scipy.stats has many discrete probability distributions. Another which we have seen is the Poisson distribution, you can try exploring that in a similar way to what we have done with the binomial distribution. \n",
    "See https://docs.scipy.org/doc/scipy/reference/generated/scipy.stats.poisson.html"
   ]
  },
  {
   "cell_type": "code",
   "execution_count": null,
   "id": "b6a1e4db",
   "metadata": {},
   "outputs": [],
   "source": []
  }
 ],
 "metadata": {
  "kernelspec": {
   "display_name": "Python 3 (ipykernel)",
   "language": "python",
   "name": "python3"
  },
  "language_info": {
   "codemirror_mode": {
    "name": "ipython",
    "version": 3
   },
   "file_extension": ".py",
   "mimetype": "text/x-python",
   "name": "python",
   "nbconvert_exporter": "python",
   "pygments_lexer": "ipython3",
   "version": "3.10.9"
  },
  "vscode": {
   "interpreter": {
    "hash": "918020f718b89116c31fb1fb8f09f2d5d1f0582c6d6800a1d3adb6c2060c3053"
   }
  }
 },
 "nbformat": 4,
 "nbformat_minor": 5
}
