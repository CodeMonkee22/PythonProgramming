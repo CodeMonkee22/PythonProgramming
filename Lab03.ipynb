{
 "cells": [
  {
   "cell_type": "markdown",
   "id": "c617700a",
   "metadata": {},
   "source": [
    "# Lab 3: Applications of Calculus "
   ]
  },
  {
   "cell_type": "markdown",
   "id": "19079348",
   "metadata": {},
   "source": [
    "## Part 1: Continuous Probability Distributions \n",
    "\n",
    "In this part we will see how we can calculate with continuous probability distributions in Python. \n",
    "\n",
    "We start by importing the modules we will need"
   ]
  },
  {
   "cell_type": "code",
   "execution_count": null,
   "id": "8628ec36",
   "metadata": {},
   "outputs": [],
   "source": [
    "from scipy import stats\n",
    "import numpy as np\n",
    "import matplotlib.pyplot as plt"
   ]
  },
  {
   "cell_type": "markdown",
   "id": "e9c97281",
   "metadata": {},
   "source": [
    "We can generate random data in the same way we did for discrete distributions, here we will use the normal distribtion. The documentation for this is here https://docs.scipy.org/doc/scipy/reference/generated/scipy.stats.norm.html#scipy.stats.norm"
   ]
  },
  {
   "cell_type": "code",
   "execution_count": null,
   "id": "16f4d629",
   "metadata": {},
   "outputs": [],
   "source": [
    "n1 = stats.norm.rvs(size=10)\n",
    "n1"
   ]
  },
  {
   "cell_type": "markdown",
   "id": "2117c62a",
   "metadata": {},
   "source": [
    "To try and understand how this works, we will experiment with different data sets. It is useful to use numpy to calculate the mean and variance of our data."
   ]
  },
  {
   "cell_type": "code",
   "execution_count": null,
   "id": "d15107ef",
   "metadata": {},
   "outputs": [],
   "source": [
    "print('The mean is ',np.mean(n1))\n",
    "print('The variance is',np.var(n1))\n"
   ]
  },
  {
   "cell_type": "markdown",
   "id": "07f0050d",
   "metadata": {},
   "source": [
    "We can also plot a histogram - do you remember how we did that for discrete distributions?  \n",
    "In that case there was a bit of messing around to make each bin fit a data point nicely, but with the data from a continuous distribution we don't really care about that, we just want the general shape. It may be useful to experiment with the number of bins though. "
   ]
  },
  {
   "cell_type": "code",
   "execution_count": null,
   "id": "a2fbaa54",
   "metadata": {},
   "outputs": [],
   "source": [
    "# histogram here \n",
    "\n",
    "\n"
   ]
  },
  {
   "cell_type": "markdown",
   "id": "ab1d9934",
   "metadata": {},
   "source": [
    "The answer might not show us much, so experiment again with some much larger data sets - just show the mean, variance and histogram, don't print out the whole data set. You can simply re-execute a code block to generate a different data set. "
   ]
  },
  {
   "cell_type": "code",
   "execution_count": null,
   "id": "43d306f1",
   "metadata": {},
   "outputs": [],
   "source": [
    "#try more examples here - you should make the size paramater much bigger\n"
   ]
  },
  {
   "cell_type": "markdown",
   "id": "bf66e12b",
   "metadata": {},
   "source": []
  },
  {
   "cell_type": "code",
   "execution_count": null,
   "id": "0eab71fc",
   "metadata": {},
   "outputs": [],
   "source": [
    "# now let  \n",
    "n2 = stats.norm.rvs(10,10,10)\n",
    "n2\n",
    "# carry out similar experiments in order to understand the 3 parameters \n",
    "# - of course when they are all the same we can't what they mean, so \n",
    "# change each value and analyse as above. "
   ]
  },
  {
   "cell_type": "code",
   "execution_count": null,
   "id": "ab9ccb2c",
   "metadata": {
    "scrolled": true
   },
   "outputs": [],
   "source": []
  },
  {
   "cell_type": "markdown",
   "id": "b9b39e2f",
   "metadata": {},
   "source": [
    "Next we will do calculations with the cumulative distribution function (cdf). As with a discrete distribution this will calculate $Pr(X\\leq x)$. "
   ]
  },
  {
   "cell_type": "code",
   "execution_count": null,
   "id": "de4f26a5",
   "metadata": {},
   "outputs": [],
   "source": [
    "# first define a normal random variable\n",
    "X = stats.norm()"
   ]
  },
  {
   "cell_type": "code",
   "execution_count": null,
   "id": "e9777c18",
   "metadata": {},
   "outputs": [],
   "source": [
    "# try some values of X.cdf \n",
    "\n"
   ]
  },
  {
   "cell_type": "markdown",
   "id": "8bcc1c0c",
   "metadata": {},
   "source": [
    "Now try to define a random variable with a particular mean and standard deviation. "
   ]
  },
  {
   "cell_type": "code",
   "execution_count": null,
   "id": "365c839e",
   "metadata": {},
   "outputs": [],
   "source": [
    "# define it here and do some testing to see if it appears correct. A good test of whether you have done it correctly \n",
    "# is that the cdf at the mean should be 0.5 and at the mean + 1 standard deviation about 0.84\n"
   ]
  },
  {
   "cell_type": "markdown",
   "id": "e6729099",
   "metadata": {},
   "source": [
    "For a more general normal distribution we need to specify the location and scale. The location is just the mean, the scale is given by the standard deviation, which is the square root of the variance. \n",
    "\n",
    "Suppose that in the Australian Football League (AFL) the mean number of total points for a match is 185 with standard deviation 33. \n",
    "\n",
    "By defining an appropriate random variable, answer the following:\n",
    "\n",
    "(i) What is the probability of less than 150 points in a game? \n",
    "\n",
    "(ii) What is the probability of more than 200 points in a game? \n",
    "\n",
    "(iii) What is the probability of between 150 and 180 points in game? \n",
    "\n",
    "Harder: How many points need to be scored in order to be in the top 10% high scoring games? "
   ]
  },
  {
   "cell_type": "code",
   "execution_count": null,
   "id": "3bee60f9",
   "metadata": {},
   "outputs": [],
   "source": [
    "\n",
    "\n"
   ]
  },
  {
   "cell_type": "code",
   "execution_count": null,
   "id": "20af5ddc",
   "metadata": {},
   "outputs": [],
   "source": [
    "\n",
    "\n"
   ]
  },
  {
   "cell_type": "code",
   "execution_count": null,
   "id": "9bb627f1",
   "metadata": {},
   "outputs": [],
   "source": []
  },
  {
   "cell_type": "code",
   "execution_count": null,
   "id": "5ce53285",
   "metadata": {},
   "outputs": [],
   "source": []
  },
  {
   "cell_type": "markdown",
   "id": "bb442284",
   "metadata": {},
   "source": [
    "## Part 2: Infinite Series \n",
    "We will use Python to explore some infinite series. \n",
    "We do this by calculating partial sums, so we need to know how to calculate a sum."
   ]
  },
  {
   "cell_type": "code",
   "execution_count": null,
   "id": "5e63b148",
   "metadata": {},
   "outputs": [],
   "source": [
    "# what sum is the following code calculating? Can you check the answer by hand? \n",
    "\n",
    "S = 0\n",
    "for i in range(10):\n",
    "    S += i\n",
    "\n",
    "print(S)\n"
   ]
  },
  {
   "cell_type": "markdown",
   "id": "4b39786c",
   "metadata": {},
   "source": [
    "Use a loop to calculate $$\\sum_{i=1}^{5} i^3$$ You can check this by hand to make sure it worked, if so then you are ready to move on to series."
   ]
  },
  {
   "cell_type": "code",
   "execution_count": null,
   "id": "369f44a1",
   "metadata": {},
   "outputs": [],
   "source": [
    "# Calculation here \n"
   ]
  },
  {
   "cell_type": "markdown",
   "id": "48eeeb07",
   "metadata": {},
   "source": [
    "Now we'll try to approximate an infinite series. Consider the following series \n",
    "$$\\sum_{n=1}^\\infty \\frac{1}{n^3}$$. \n",
    "\n",
    "Use loops to calculate the partial sums $S_{10}$, $S_{100}$ and $S_{1000}$. \n",
    "Then see if you can determine what the value of the series is up to 4 decimal places. \n",
    "\n",
    "(Hint: try larger and larger partial sums until the first 4 decimal places no longer change). "
   ]
  },
  {
   "cell_type": "code",
   "execution_count": null,
   "id": "96742526",
   "metadata": {},
   "outputs": [],
   "source": [
    "# code here\n"
   ]
  },
  {
   "cell_type": "markdown",
   "id": "080b1655",
   "metadata": {},
   "source": [
    "We can visualise partial sums using a plot. \n",
    "Below we show the partial sums of $\\sum_{n=0}^\\infty \\frac{1}{2^n}$\n"
   ]
  },
  {
   "cell_type": "code",
   "execution_count": null,
   "id": "f94ab0f0",
   "metadata": {},
   "outputs": [],
   "source": [
    "S = 0\n",
    "x = range(0,100)\n",
    "y = []\n",
    "for i in x:\n",
    "    S+=1/(2**i)\n",
    "    y.append(S)\n",
    "    \n",
    "plt.plot(x,y)\n",
    "\n",
    "# work out exactly what the code above is doing. \n",
    "\n",
    "\n",
    "\n",
    "# the graph below shows convergence of the partial sums to 2 \n",
    "    "
   ]
  },
  {
   "cell_type": "code",
   "execution_count": null,
   "id": "d3ec80aa",
   "metadata": {},
   "outputs": [],
   "source": [
    "# Now produce a similar plot for the earlier series 1/n^3\n",
    "\n",
    "\n"
   ]
  },
  {
   "cell_type": "markdown",
   "id": "a92aa510",
   "metadata": {},
   "source": [
    "Recall that the harmonic series $\\sum_{i=1}^\\infty \\frac{1}{n}$ does not converge. In fact, the partial sums just keep growing. \n",
    "(i) Produce a plot of the partial sums (you may want to experiment with various values). \n",
    "\n",
    "(ii) Calculate how many terms you need before the series grows larger than 10 - ie. what is the smallest $N$ such that \n",
    "$S_N > 10$. \n",
    "\n",
    "There are a number of ways to do this. You may have to look further into loops in python - for loops https://wiki.python.org/moin/ForLoop or while loops https://wiki.python.org/moin/WhileLoop"
   ]
  },
  {
   "cell_type": "code",
   "execution_count": null,
   "id": "dfc23264",
   "metadata": {},
   "outputs": [],
   "source": []
  },
  {
   "cell_type": "code",
   "execution_count": null,
   "id": "1f4a3d73",
   "metadata": {},
   "outputs": [],
   "source": [
    "\n"
   ]
  },
  {
   "cell_type": "code",
   "execution_count": null,
   "id": "9ef0ec2d",
   "metadata": {},
   "outputs": [],
   "source": []
  },
  {
   "cell_type": "markdown",
   "id": "8a1e08df",
   "metadata": {},
   "source": [
    "Extension: Investigate the following series: \n",
    "$4 - \\frac{4}{3} + \\frac{4}{5} - \\frac{4}{7} + \\frac{4}{9} \\ldots $"
   ]
  },
  {
   "cell_type": "code",
   "execution_count": null,
   "id": "a1ed5f7b",
   "metadata": {},
   "outputs": [],
   "source": []
  },
  {
   "cell_type": "code",
   "execution_count": null,
   "id": "71309af0",
   "metadata": {},
   "outputs": [],
   "source": []
  },
  {
   "cell_type": "code",
   "execution_count": null,
   "id": "bbff8d94",
   "metadata": {},
   "outputs": [],
   "source": []
  }
 ],
 "metadata": {
  "kernelspec": {
   "display_name": "Python 3 (ipykernel)",
   "language": "python",
   "name": "python3"
  },
  "language_info": {
   "codemirror_mode": {
    "name": "ipython",
    "version": 3
   },
   "file_extension": ".py",
   "mimetype": "text/x-python",
   "name": "python",
   "nbconvert_exporter": "python",
   "pygments_lexer": "ipython3",
   "version": "3.10.9"
  }
 },
 "nbformat": 4,
 "nbformat_minor": 5
}
