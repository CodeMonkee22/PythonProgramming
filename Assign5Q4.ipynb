{
 "cells": [
  {
   "cell_type": "markdown",
   "id": "172ae6e5-1dd6-4226-970a-d4636120dec4",
   "metadata": {},
   "source": [
    "## Assignment 5 Question 4\n"
   ]
  },
  {
   "attachments": {},
   "cell_type": "markdown",
   "id": "6188d18c-be35-4625-a1b5-1ccc6196f0ad",
   "metadata": {},
   "source": [
    "Consider the following small internet: \n",
    "\n",
    "![A5network2.png](A5network2.png)"
   ]
  },
  {
   "cell_type": "markdown",
   "id": "914aa486-e827-4b71-b0f8-e2d870ff4d19",
   "metadata": {},
   "source": [
    "(a) Formulate a system of equations obtained by applying the PageRank algorithm to this process. You should call the variable corresponding to node 1 $x_1$ and so on up to $x_5$. \n",
    "\n",
    "In a markdown cell you can write this by putting your equations within dollar signs, and using underscore for subscripts. You can represent fractions such as \\frac{1}{2}. \n",
    "An example is `` $x_1 + \\frac{1}{2}x_2 = x_3$ `` which will render as \n",
    "$x_1 + \\frac{1}{2}x_2 = x_3$"
   ]
  },
  {
   "cell_type": "markdown",
   "id": "068628df-71dc-4b9c-80b3-f734f17c0aed",
   "metadata": {},
   "source": [
    "**Double click on this cell to enter your system of equations here**: \\\n",
    "(you can remove this text and the dots which are just here to expand the cell)\n",
    ".\\\n",
    ".\\\n",
    ".\\\n",
    ".\\\n",
    ".\\\n",
    ".\\\n",
    ".\\\n",
    ".\\\n",
    "\n",
    "\n",
    "\n",
    "\n",
    "\n",
    "\n",
    "\n",
    "\n",
    "\n",
    "\n"
   ]
  },
  {
   "cell_type": "markdown",
   "id": "46229ea6-0935-4d69-a2d6-613424b55f43",
   "metadata": {},
   "source": [
    "(b) Use the **sympy** method from the week 9 computer prac (Lab05) to define the relevant matrix used to solve this system and row reduce it.  "
   ]
  },
  {
   "cell_type": "code",
   "execution_count": 2,
   "id": "8e1da3da-d76a-4bcd-b6d6-a31f09a85c7b",
   "metadata": {},
   "outputs": [],
   "source": [
    "## Code to define matrix here \n",
    "\n",
    "\n",
    "\n",
    "\n",
    "## Code to row reduce matrix here \n",
    "\n",
    "\n",
    "\n",
    "## Print your row reduced matrix here. \n",
    "\n",
    "\n",
    "\n",
    "\n"
   ]
  },
  {
   "cell_type": "markdown",
   "id": "f23a073e-e863-458c-86c5-b1063b889fdd",
   "metadata": {},
   "source": [
    "**Edit this cell to put in your answers as instructed**\n",
    "\n",
    "(c) Use the rref you found above to give the solution \n",
    "\n",
    "$(x_1,x_2,x_3,x_4,x_5) =  (\\text{replace this text with your solution vector})$\n",
    "\n",
    "and hence give the ranking of the nodes from highest to lowest, for example, 1,2,3,4,5 would be a possible ranking\n",
    "\n",
    "ranking: "
   ]
  },
  {
   "cell_type": "code",
   "execution_count": null,
   "id": "2ab86f4a-f7c4-4d74-9917-805873480cea",
   "metadata": {},
   "outputs": [],
   "source": []
  }
 ],
 "metadata": {
  "kernelspec": {
   "display_name": "Python 3 (ipykernel)",
   "language": "python",
   "name": "python3"
  },
  "language_info": {
   "codemirror_mode": {
    "name": "ipython",
    "version": 3
   },
   "file_extension": ".py",
   "mimetype": "text/x-python",
   "name": "python",
   "nbconvert_exporter": "python",
   "pygments_lexer": "ipython3",
   "version": "3.10.14"
  }
 },
 "nbformat": 4,
 "nbformat_minor": 5
}
