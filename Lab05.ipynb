{
 "cells": [
  {
   "cell_type": "markdown",
   "metadata": {},
   "source": [
    "# Computer Lab 5\n",
    "\n",
    "## 1. Solving linear equations in python"
   ]
  },
  {
   "cell_type": "markdown",
   "metadata": {},
   "source": [
    "First, we revisit some of the ideas from the previous lab\n",
    "\n",
    "______\n",
    "\n",
    "Let's start with a problem from the course notes: Solve\n",
    "$$\n",
    "\\begin{align*}\n",
    "2x + y - z &= 2\\\\\n",
    "x + 3y +2z & = 1\\\\\n",
    "x + y + z & = 2.\n",
    "\\end{align*}\n",
    "$$\n",
    "The solution to this system of equations is $x = 2, y = -1, z = 1$.\n",
    "\n",
    "We can define $A$ and $\\mathbf{b}$ in `numpy` as follows.\n",
    "\n",
    "\n"
   ]
  },
  {
   "cell_type": "code",
   "execution_count": null,
   "metadata": {},
   "outputs": [],
   "source": [
    "import numpy as np\n",
    "\n",
    "A = np.array([[2,1,-1], [1,3,2], [1,1,1]])\n",
    "b = np.array([2,1,2])"
   ]
  },
  {
   "cell_type": "markdown",
   "metadata": {},
   "source": [
    "Now we can find the answer for the system of equations using `np.linalg.inv` and `np.matmul`:"
   ]
  },
  {
   "cell_type": "code",
   "execution_count": null,
   "metadata": {},
   "outputs": [],
   "source": [
    "np.matmul(np.linalg.inv(A),b)"
   ]
  },
  {
   "cell_type": "markdown",
   "metadata": {},
   "source": [
    "_____\n",
    "\n",
    "\n",
    "\n",
    "But what if I told you there was a better way. We touched on this last time, but we can use `np.linalg.solve` to find the solution. Go on and run it to check."
   ]
  },
  {
   "cell_type": "code",
   "execution_count": null,
   "metadata": {},
   "outputs": [],
   "source": [
    "np.linalg.solve(A,b)"
   ]
  },
  {
   "cell_type": "markdown",
   "metadata": {},
   "source": [
    "We should get the same answer. But why are there two ways of doing the same thing??\n",
    "\n",
    "`np.linalg.inv` requires us to invert the matrix (which is really painful and slow), whereas `np.linalg.solve` will just do the row reductions required to find the solution! This makes it much faster.\n",
    "\n",
    "To prove this to you we're gonna use some cell magics in jupyter. The \\% let's you do some magic, here we will use it to time some code. Let's make a big matrix."
   ]
  },
  {
   "cell_type": "code",
   "execution_count": null,
   "metadata": {},
   "outputs": [],
   "source": [
    "big_A = np.identity(500)\n",
    "big_b = np.ones(500)"
   ]
  },
  {
   "cell_type": "markdown",
   "metadata": {},
   "source": [
    "We're now going to get an average time of how long it takes to run our two different methods."
   ]
  },
  {
   "cell_type": "code",
   "execution_count": null,
   "metadata": {},
   "outputs": [],
   "source": [
    "%time answer = np.linalg.solve(big_A,big_b);"
   ]
  },
  {
   "cell_type": "code",
   "execution_count": null,
   "metadata": {},
   "outputs": [],
   "source": [
    "%time answer = np.matmul(np.linalg.inv(big_A),big_b)"
   ]
  },
  {
   "cell_type": "markdown",
   "metadata": {},
   "source": [
    "Which one took longer? If you're interested, try doubling the size and see how long it takes."
   ]
  },
  {
   "cell_type": "markdown",
   "metadata": {},
   "source": [
    "## When Things Go Wrong ... "
   ]
  },
  {
   "cell_type": "markdown",
   "metadata": {},
   "source": [
    "Let $C = \\begin{bmatrix} 3 & 1 & 0 \\\\ 2 & 0 & -3 \\\\\n",
    "5 & 1 & -3 \\end{bmatrix}$. Try using both methods above to solve $C\\mathbf{x} = \\begin{bmatrix} 1 \\\\ 1 \\\\ 1 \\end{bmatrix}$ and see what happens. \n",
    "First try the inverse. "
   ]
  },
  {
   "cell_type": "code",
   "execution_count": null,
   "metadata": {},
   "outputs": [],
   "source": []
  },
  {
   "cell_type": "markdown",
   "metadata": {},
   "source": [
    "Python should give you an inverse and you can use it to get a solution. Check your solution by substituting back into the equation and see what happens. "
   ]
  },
  {
   "cell_type": "code",
   "execution_count": null,
   "metadata": {},
   "outputs": [],
   "source": []
  },
  {
   "cell_type": "markdown",
   "metadata": {},
   "source": [
    "It does not give the answer you expect which means that the supposed solution is not really a solution. What went wrong? (Hint: try calculating the determinant of $C$)"
   ]
  },
  {
   "cell_type": "code",
   "execution_count": null,
   "metadata": {},
   "outputs": [],
   "source": [
    "\n",
    "# the answer is suspiciously small! It looks like it should be zero (which we can very direc\n",
    "# inverse does not actually exist, but Numpy came up with one due to rounding errors"
   ]
  },
  {
   "cell_type": "markdown",
   "metadata": {},
   "source": [
    "Now try again with solve: "
   ]
  },
  {
   "cell_type": "code",
   "execution_count": null,
   "metadata": {},
   "outputs": [],
   "source": []
  },
  {
   "cell_type": "markdown",
   "metadata": {},
   "source": [
    "You should find that you get the same wrong solution - so you have to be very careful. A useful trick is calculate the rank - we don't need to define this, it is just useful to know that it is more accurate than the determinant, and if the rank is less than the size of a square matrix then it is not invertible"
   ]
  },
  {
   "cell_type": "code",
   "execution_count": null,
   "metadata": {},
   "outputs": [],
   "source": [
    "np.linalg.matrix_rank(C)"
   ]
  },
  {
   "cell_type": "markdown",
   "metadata": {},
   "source": [
    "Now, for the same matrix $C$, try to solve $C\\mathbf{x} = \\begin{bmatrix} 1 \\\\ -3 \\\\ -2 \\end{bmatrix}$. \n",
    "The inverse method still does not work, but try the solve command, and then check your answer by multiplying by $C$. "
   ]
  },
  {
   "cell_type": "code",
   "execution_count": null,
   "metadata": {},
   "outputs": [],
   "source": [
    "\n"
   ]
  },
  {
   "cell_type": "markdown",
   "metadata": {},
   "source": [
    "You should find that this time it does give a solution. \n",
    "What is going on is that when $C$ is not invertible you may get no solutions or infinitely many. In the previous case there were none, so the solution produced as a result of rounding errors was just wrong. In this case there are infinitely many and the solve command finds one of them - so it does give a correct answer, but not the complete solution. \n",
    "\n",
    "To properly deal with non-invertible matrices, including non-square matrices, we need symbolic algebra. There are ways of doing this in Python but generally they are not as reliable as more deidicated mathematical software (such as Matlab or Maple), the problem is that carrying out row operations is very sensitive to rounding issues in floating point arithmetic - it makes a big difference whether something is zero or not, so this is generally a difficult problem, but typically we only need to solve systems with unique solutions, or else there are other ways around the problem which we will see soon. \n",
    "\n"
   ]
  },
  {
   "cell_type": "markdown",
   "metadata": {},
   "source": [
    "## 3. A small PageRank example"
   ]
  },
  {
   "cell_type": "markdown",
   "metadata": {},
   "source": [
    "PageRank is an algorithm for ranking nodes in a network, most famously used as a basis for Google's ranking of internet search results. \n",
    "We will start with a very small example so we can see how it relates to solving systems of equations. "
   ]
  },
  {
   "attachments": {
    "small_network.png": {
     "image/png": "[encoded data removed]"
    }
   },
   "cell_type": "markdown",
   "metadata": {},
   "source": [
    "![small_network.png](attachment:small_network.png)"
   ]
  },
  {
   "cell_type": "markdown",
   "metadata": {},
   "source": [
    "Consider the network shown above. We want to rank each node based on the incoming links it receives, with each contributing the score of the node it comes from, however we want to weight outgoing links according to how many go out from each node. For example if a node has only 1 link going out it has a weighting of 1, but if it has 2 then each has a weighting of 1/2. This weighting is then multiplied by the score of the node. \n",
    "We'll let $x_i$ be the score of node $i$ which is calculated by adding up the weights of all incoming links. \n",
    "Then we have a system of equations:\n",
    "$$\n",
    "\\begin{aligned} \n",
    "x_1 &=x_3  +\\frac{1}{3}x_4 \\\\\n",
    "x_2 &= \\frac{1}{2}x_1 +\\frac{1}{3}x_4 \\\\\n",
    "x_3 &=  x_2  +\\frac{1}{3}x_4\\\\\n",
    "x_4 &= \\frac{1}{2}x_1\n",
    "\\end{aligned}\n",
    "$$\n",
    "\n",
    "We can represent this as $\\mathbf{x} = M \\mathbf{x}$ where $\\mathbf{x} = (x_1,x_2,x_3,x_4)^T$. \n",
    "\n",
    "Enter the matrix $M$ below:"
   ]
  },
  {
   "cell_type": "code",
   "execution_count": null,
   "metadata": {},
   "outputs": [],
   "source": []
  },
  {
   "cell_type": "markdown",
   "metadata": {},
   "source": [
    "Now to solve $M \\mathbf{x} = \\mathbf{x}$ it is easier to solve $(M-I)\\mathbf{x} = \\mathbf{0}$. \n",
    "Do this using what we learnt in part 1. \n",
    "In particular you should not be typing in an identity matrix - use the command that creates one!\n",
    "The page of Numpy Array creation routines might also be helpful https://numpy.org/doc/stable/reference/routines.array-creation.html"
   ]
  },
  {
   "cell_type": "code",
   "execution_count": null,
   "metadata": {},
   "outputs": [],
   "source": [
    "# solve for x here \n"
   ]
  },
  {
   "cell_type": "markdown",
   "metadata": {},
   "source": [
    "You should find that the answer is zero - which is of course a solution to $M\\mathbf{x} = \\mathbf{x}$, but not a very useful one. To investigate if there any more, try the rank. Remember that if this is less than the size of the matrix then it tells us it is not invertible, which means there is not a unique solution - in general it means there might be no solution or infinitely many of them, but given that we have already seen that there is one solutions (the zero solution), then we must have infinitely many here. "
   ]
  },
  {
   "cell_type": "code",
   "execution_count": null,
   "metadata": {},
   "outputs": [],
   "source": []
  },
  {
   "cell_type": "markdown",
   "metadata": {},
   "source": [
    "It is possible to row reduce a matrix with Python, though generally row reduction does not work well with numerical techniques, since each step depends heavily on whether or not a particular entry of the matrix is zero, then it runs into major trouble with floating point rounding errors, so typically other methods are used which are more robust to numerical calculations. We will see one shortly, but first we can see that if careful we can do row reduction using symbolic algebra. "
   ]
  },
  {
   "cell_type": "markdown",
   "metadata": {},
   "source": [
    "We will use the sympy package. The main point to be careful of is that if the entries are treated as floating point numbers, we will have trouble with rounding errors. As such we can't just use the matrix we already defined with numpy, we need to define it again in sympy and enclose it with a special S function which tells it to treat everything symbolically. "
   ]
  },
  {
   "cell_type": "code",
   "execution_count": null,
   "metadata": {},
   "outputs": [],
   "source": [
    "from sympy import *\n",
    "#here is an example of how to define a matrix with rational entries treated symbolically\n",
    "A= S(\"Matrix([[1/2, 1],[-2,1/3]])\")\n",
    "\n",
    "# now use the same syntax to redefine your matrix M - you should be able to cut and paste from your numpy definition above. \n",
    "# we give it the new name Ms, because we'll need to use our numpy-defined M later on\n",
    "Ms = \n",
    "\n",
    "#Next we define a new matrix Ns = Ms-I by subtracting the identity. In sympy the n x n identity is called eye(n) \n",
    "Ns=\n",
    "\n",
    "# if you print Ns, it should have rational entries, not decimals\n",
    "print(Ns)"
   ]
  },
  {
   "cell_type": "code",
   "execution_count": null,
   "metadata": {},
   "outputs": [],
   "source": [
    "# now we do the row reduction \n",
    "\n",
    "Nrref = Ns.rref()\n",
    "print(Nrref)"
   ]
  },
  {
   "cell_type": "markdown",
   "metadata": {},
   "source": [
    "The answer should be the row reduced matrix, followed by another vector lists the positions of the pivots (counting from 0). Remember that here we are solving the system $N\\mathbf{x} = \\mathbf{0}$, so you should now be able to find the solutions and determine the ranking of the nodes. "
   ]
  },
  {
   "cell_type": "markdown",
   "metadata": {},
   "source": []
  },
  {
   "cell_type": "markdown",
   "metadata": {},
   "source": [
    "\n",
    "Fortunately there is another way to do this problem which works better numerically. It is not a general way of solving such systems, but it is particular to ones of the form $M \\mathbf{x} = \\mathbf{x}$"
   ]
  },
  {
   "cell_type": "code",
   "execution_count": null,
   "metadata": {},
   "outputs": [],
   "source": [
    "results = np.linalg.eig(M)\n",
    "v = results[1][:,0].real\n",
    "v"
   ]
  },
  {
   "cell_type": "markdown",
   "metadata": {},
   "source": [
    "The end result of this is to give a non-zero solution to $M \\mathbf{x} = \\mathbf{x}$.   \n",
    "What are we actually doing? We are using eigenvalues and eigenvectors - but we won't learn about those until section 6, so this is motivation to be interested in them when we get to them. \n",
    "For now we just want to interpret the result. \n",
    "We have one non-zero solution - is it the one we want? It doesn't matter, we are just ranking the 4 nodes, so all we are interested in is the relative size, it turns out that all solutions are scalar multiples of this one, so it doesn't matter which one we choose. "
   ]
  },
  {
   "cell_type": "code",
   "execution_count": null,
   "metadata": {},
   "outputs": [],
   "source": [
    "# Test that it is indeed a solution by calculating Mv\n",
    "\n",
    "np.matmul(M,v)"
   ]
  },
  {
   "cell_type": "markdown",
   "metadata": {},
   "source": [
    "Why does it look different to the earlier solution? If $\\mathbf{x}$ is a solution to $M\\mathbf{x} = \\mathbf{x}$ then \n",
    "so is any multiple $t\\mathbf{x}$. How can we test if these are multiples of each other? "
   ]
  },
  {
   "cell_type": "code",
   "execution_count": null,
   "metadata": {},
   "outputs": [],
   "source": []
  },
  {
   "cell_type": "markdown",
   "metadata": {},
   "source": [
    "## 4. Polynomial Fitting "
   ]
  },
  {
   "cell_type": "markdown",
   "metadata": {},
   "source": [
    "Suppose I want to fit a polynomial to particular data points. If I have $n$ data points then there is a unique degree $n-1$ polynomial which passes through those points. For example if you have two points, there is a unique line passing through them. \n",
    "Suppose we want to fit a polynomial to $(-1,2),(1,0),(2,1),(3,1)$. \n",
    "Then we are looking for a degree 3 polynomial, $p(x) = a + bx + cx^2 + dx^3$. \n",
    "\n",
    "By substituting in each point to the polynomial create a system of linear equations in the unknowns a, b, c, d and then use Python to solve that system. \n",
    "Plot the polynomial to see what it looks like as well. \n",
    "\n",
    "To define the polynomial you will need to use the answers you get from the solution of the system of equations. \n",
    "One way to do this is that if you have a vector x, you can extract entries from it with x[0], x[1] and so on. Note that indexing starts from 0. \n"
   ]
  },
  {
   "cell_type": "markdown",
   "metadata": {},
   "source": [
    "You can enter your equations in this text box:\n",
    "\n",
    "\n",
    "\n",
    "\n"
   ]
  },
  {
   "cell_type": "code",
   "execution_count": null,
   "metadata": {},
   "outputs": [],
   "source": [
    "# solve the system here \n"
   ]
  },
  {
   "cell_type": "code",
   "execution_count": null,
   "metadata": {},
   "outputs": [],
   "source": [
    "# plot the polynomial here \n"
   ]
  },
  {
   "cell_type": "code",
   "execution_count": null,
   "metadata": {},
   "outputs": [],
   "source": []
  }
 ],
 "metadata": {
  "kernelspec": {
   "display_name": "Python 3 (ipykernel)",
   "language": "python",
   "name": "python3"
  },
  "language_info": {
   "codemirror_mode": {
    "name": "ipython",
    "version": 3
   },
   "file_extension": ".py",
   "mimetype": "text/x-python",
   "name": "python",
   "nbconvert_exporter": "python",
   "pygments_lexer": "ipython3",
   "version": "3.10.14"
  },
  "metadata": {
   "interpreter": {
    "hash": "89aaf489e4ea23db89a92a65038ef7fd856a637865fb4a8dd9e78ceffd33a118"
   }
  },
  "toc": {
   "base_numbering": 1,
   "nav_menu": {},
   "number_sections": true,
   "sideBar": true,
   "skip_h1_title": false,
   "title_cell": "Table of Contents",
   "title_sidebar": "Contents",
   "toc_cell": false,
   "toc_position": {},
   "toc_section_display": true,
   "toc_window_display": false
  }
 },
 "nbformat": 4,
 "nbformat_minor": 4
}
