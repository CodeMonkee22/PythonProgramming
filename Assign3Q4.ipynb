{
 "cells": [
  {
   "cell_type": "markdown",
   "id": "ff8a48ae-ecef-4093-befc-0c3d0ff92a76",
   "metadata": {},
   "source": [
    "Assign 4 Question 3. \n",
    "\n",
    "You should submit this entire notebook for marking. If you have results but are missing code that generated those results you will lose marks. As well as Computer Prac 3, you may need to refer to the course material on continuous distributions https://myuni.adelaide.edu.au/courses/95091/pages/week-5-common-continuous-random-variables-in-data-science?module_item_id=3464136, and the reference materials for some particular distributions in Python:\n",
    "https://docs.scipy.org/doc/scipy/reference/stats.html\n",
    "\n",
    "\n"
   ]
  },
  {
   "cell_type": "markdown",
   "id": "93965e10-25aa-4a5b-867b-a17e412d8a7f",
   "metadata": {},
   "source": [
    "You have taken up record collecting, and your favourite online record seller, _StatsVinyl_, are vinyl record fans who are also very statistically minded, so they give detailed statistics on their sales. \n"
   ]
  },
  {
   "cell_type": "markdown",
   "id": "10871953-34b2-44be-a6bb-c99c8928657d",
   "metadata": {},
   "source": [
    "(a) Suppose that the number 1 record on your want list has a pricing guide given by a normal distribution with a mean of \\\\$200 and standard deviation of \\\\$50. \n",
    "Define a normal random variable which represents the price of this record and use it to calculate the probability that the record would be sold for less that \\\\$120 "
   ]
  },
  {
   "cell_type": "code",
   "execution_count": null,
   "id": "fa63a600-9d29-4b29-afe4-a85104aa6c45",
   "metadata": {},
   "outputs": [],
   "source": [
    "# Code for part (a) here. \n",
    "# at the end you should use a print statement to present your answer in a sentence\n",
    "\n",
    "\n",
    "\n",
    "\n",
    "\n"
   ]
  },
  {
   "cell_type": "markdown",
   "id": "357d9135-0dbd-4859-96e6-4e318f200d8b",
   "metadata": {},
   "source": [
    "(b) They also model the availability of records. The waiting time for a copy of the record you want is modelled by an exponential random variable, where it is expected that on average you would have to wait 3 months for a copy to come in. Define an exponential random variable representing the waiting time for a copy of this record and use it to determine the probability that you a copy will come in after only 1 month or less. "
   ]
  },
  {
   "cell_type": "code",
   "execution_count": null,
   "id": "d790c3eb-67f6-4c2f-b3a7-dcd333d0c1c9",
   "metadata": {},
   "outputs": [],
   "source": [
    "# Code for part (b) here. \n",
    "# at the end you should use a print statement to present your answer in a sentence\n",
    "\n",
    "\n"
   ]
  },
  {
   "cell_type": "markdown",
   "id": "589fd4c6-40b1-4ce3-9b9f-bef73aca7159",
   "metadata": {},
   "source": [
    "(c) Now you are wondering, how long can you expect the wait to be with a 90\\% probability? That is, if your random variable is $X$, what is $x$ such that $Pr(X<x) = 0.9$. \n",
    "\n",
    "In the past we have used a while loop to solve a problem of this sort, but instead here we will use some built-in functions. What we need is an inverse of the cdf, however instead the probability distributions have an inverse of the survival function (sf) which is defined by $sf(x) = 1 - cdf(x)$. The inverse survival function (isf) is the inverse function of the survival function. This is a method associated with a continuous random variable, just as cdf is. \n",
    "Use the isf to solve the problem above. \n",
    "\n"
   ]
  },
  {
   "cell_type": "code",
   "execution_count": 2,
   "id": "c09e567b-84b8-4e60-add6-f4867d847f89",
   "metadata": {},
   "outputs": [],
   "source": [
    "# Code for part (c) here. \n",
    "# at the end you should use a print statement to present your answer in a sentence\n"
   ]
  },
  {
   "cell_type": "code",
   "execution_count": null,
   "id": "b642ae7b-3196-40e0-8ad0-18c214a19ea7",
   "metadata": {},
   "outputs": [],
   "source": []
  }
 ],
 "metadata": {
  "kernelspec": {
   "display_name": "Python 3 (ipykernel)",
   "language": "python",
   "name": "python3"
  },
  "language_info": {
   "codemirror_mode": {
    "name": "ipython",
    "version": 3
   },
   "file_extension": ".py",
   "mimetype": "text/x-python",
   "name": "python",
   "nbconvert_exporter": "python",
   "pygments_lexer": "ipython3",
   "version": "3.10.9"
  }
 },
 "nbformat": 4,
 "nbformat_minor": 5
}
