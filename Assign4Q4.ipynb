{
 "cells": [
  {
   "cell_type": "markdown",
   "metadata": {},
   "source": [
    "# Assignment 4 Question 4"
   ]
  },
  {
   "cell_type": "markdown",
   "metadata": {},
   "source": [
    "In this question we have some data about local government areas (LGAs) in Adelaide. We will use linear regression to make a predictive model.\n",
    "\n",
    "Consider the following data, where income and prices are in thousands of dollars: \n",
    "| LGA | % rentals | Median Age | Median Income | Median House Price | \n",
    "| -|-|-|-|-|\n",
    "| Holdfast Bay | 30 | 48 | 55 | 1180 |\n",
    "| Marion | 30 | 39 | 52 | 750 | \n",
    "| Norwood, Payneham and St Peters | 36 | 39 | 55 | 1200 | \n",
    "| Playford | 36 | 33 | 49 | 430 | \n",
    "| Prospect | 34 | 38 | 57 | 1118 | \n",
    "| Tea Tree Gully | 18 | 41 | 53 | 640 | \n",
    "| Unley | 31 | 43 | 60 | 1400 | \n",
    "| Walkerville | 28 | 44 | 62 | 1295 | \n",
    "\n",
    "\n",
    "\n"
   ]
  },
  {
   "cell_type": "markdown",
   "metadata": {},
   "source": [
    "We wish to make a linear regression model of the form \n",
    "$y = \\beta_0 + \\beta_1 x_1 + \\beta_2 x_2 + \\beta_3 x_3$\n",
    "where $y$ is the median house price, $x_1$ is the percentage of rentals, $x_2$ is the median age and $x_3$ is the median income. \n",
    "All quantities should be left in the same units as presented in the table. \n",
    "\n",
    "(a) First create the design matrix $X$ which would be used to solve this problem\n"
   ]
  },
  {
   "cell_type": "code",
   "execution_count": null,
   "metadata": {},
   "outputs": [],
   "source": [
    "# Define your design matrix here \n",
    "\n"
   ]
  },
  {
   "cell_type": "markdown",
   "metadata": {},
   "source": [
    "Next create the vector $y$. "
   ]
  },
  {
   "cell_type": "code",
   "execution_count": null,
   "metadata": {},
   "outputs": [],
   "source": [
    "# define y here \n"
   ]
  },
  {
   "cell_type": "markdown",
   "metadata": {},
   "source": [
    "Now calculate $\\beta = (\\beta_0,\\beta_1,\\beta_2,\\beta_3)^t$. You must do this by matrix calculation as we did in the computer prac. No marks are given for using pre-defined packages for carrying out linear regression. "
   ]
  },
  {
   "cell_type": "code",
   "execution_count": null,
   "metadata": {},
   "outputs": [],
   "source": [
    "# Calculate Beta here \n"
   ]
  },
  {
   "cell_type": "markdown",
   "metadata": {},
   "source": [
    "Now calculate the error $e = y - X\\beta$ and print a table comparing $X\\beta, y $ and $e$, as was done in computer prac 4. "
   ]
  },
  {
   "cell_type": "code",
   "execution_count": null,
   "metadata": {},
   "outputs": [],
   "source": [
    "# calculate error and print table here\n"
   ]
  },
  {
   "cell_type": "markdown",
   "metadata": {},
   "source": [
    "We now have some additional data for the LGA West Torrens. The percentage of rentals is 36, median age 38 and median income 50. Use your model to predict the median house price for West Torrens. "
   ]
  },
  {
   "cell_type": "code",
   "execution_count": null,
   "metadata": {},
   "outputs": [],
   "source": [
    "# calculate prediction for West Torrens here \n"
   ]
  },
  {
   "cell_type": "markdown",
   "metadata": {},
   "source": []
  },
  {
   "cell_type": "code",
   "execution_count": null,
   "metadata": {},
   "outputs": [],
   "source": []
  }
 ],
 "metadata": {
  "kernelspec": {
   "display_name": "Python 3 (ipykernel)",
   "language": "python",
   "name": "python3"
  },
  "language_info": {
   "codemirror_mode": {
    "name": "ipython",
    "version": 3
   },
   "file_extension": ".py",
   "mimetype": "text/x-python",
   "name": "python",
   "nbconvert_exporter": "python",
   "pygments_lexer": "ipython3",
   "version": "3.10.9"
  }
 },
 "nbformat": 4,
 "nbformat_minor": 4
}
