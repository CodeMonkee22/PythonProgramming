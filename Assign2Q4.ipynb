{
 "cells": [
  {
   "cell_type": "markdown",
   "id": "5b870b05-6d08-4a9c-aac0-0481fdcbffb7",
   "metadata": {},
   "source": [
    "### Assignment 2 Question 4\n",
    "In this question we will do some calculations using the binomial distribution"
   ]
  },
  {
   "cell_type": "markdown",
   "id": "a6853297-f446-4e7f-84dd-b24674e52af8",
   "metadata": {},
   "source": [
    "You are in charge of ticketing at a large venue. The venue uses new ticket scanning software to detect valid tickets as patrons pass through automatic gates. Some testing has revealed that there is a 0.01 chance that it will reject a valid ticket (which we will call the rejection rate), requiring the intervention of a worker to resolve the problem, and inconveniencing the patron. \n",
    "It is decided that it acceptable to have to deal with up to 10 people whose tickets are not properly detected, so we are interested in the probability that more than 10 tickets are rejected, for a given number of people entering the venue.\n"
   ]
  },
  {
   "cell_type": "markdown",
   "id": "6d4e4d9b-8eff-4322-a047-746d58358cc8",
   "metadata": {},
   "source": [
    "Now, suppose that 850 people enter the venue. Define an appropriate binomial random variable and use it to calculate the probability that more than 10 people will have their tickets rejected. In your final answers to each problem you should use a print statement to give your answer as a sentence. "
   ]
  },
  {
   "cell_type": "code",
   "execution_count": null,
   "id": "14f13357-40e8-4999-bc91-61ef6daba1b0",
   "metadata": {},
   "outputs": [],
   "source": [
    "# first we import the stats package \n",
    "from scipy import stats\n",
    "\n",
    "\n",
    "\n"
   ]
  },
  {
   "cell_type": "markdown",
   "id": "7d0fa454-1344-4d06-b3a3-e234e7239493",
   "metadata": {},
   "source": [
    "We are going to do further calculations with a while loop. This is a loop that keeps running until a condition is satsfied, it is useful when we don't know how many times we need to execute a loop in order to complete a task. \n",
    "For example, suppose that I want to find the smallest integer $n$ such that $n^2 > 200$. The following while loop will do this. \n",
    "\n"
   ]
  },
  {
   "cell_type": "code",
   "execution_count": null,
   "id": "e1c06cf0-8c17-4d47-8b30-20e9de64f11c",
   "metadata": {},
   "outputs": [],
   "source": [
    "# This code is to demonstrate a while loop, you should run it but there is no need for you to change anything here\n",
    "\n",
    "#initialise variable\n",
    "n = 1\n",
    "\n",
    "while n**2 <= 200:\n",
    "    n+=1\n",
    "\n",
    "#The loop will terminate the first time n**2 > 200, so the value then will be our answer\n",
    "print(\"n is\",n,\" and n^2 is \",n**2)"
   ]
  },
  {
   "cell_type": "markdown",
   "id": "5fe0a22c-9663-480b-85f7-7f5d574a51f9",
   "metadata": {},
   "source": [
    "Now, using a while loop, solve the following problem. Suppose you are not happy with the probability that more than ten tickets will be rejected, but while the technical staff are working on improving the system, you hope to be able to use it for smaller events. Find the largest number of attendees for which the probability that more than 10 tickets are rejected is no more than 0.05.\n",
    "In your answer clearly state the number of attendees and the probability. \n",
    "\n",
    "Hint: you have to repeatedly redefine your random variable and calculate a probability, you might find it useful to define a function to do this."
   ]
  },
  {
   "cell_type": "code",
   "execution_count": null,
   "id": "dce56a90-3034-4442-a328-54ef2d73618a",
   "metadata": {},
   "outputs": [],
   "source": []
  },
  {
   "cell_type": "markdown",
   "id": "6fb69661-d23e-4281-b4fc-b11ce4ef1774",
   "metadata": {},
   "source": [
    "Now you would also like to know how accurate the test must be so that if 850 people are admitted, the probability that more than 10 tickets will be rejected is less than 0.05. We can also calculate this with a while loop. Do so in the next code block. Calculate the rejection rate by decreasing from the starting rate of 0.01 in increments of $1 \\times 10^{-4}$ until the probability is within the required tolerance.\n",
    "\n",
    "At the end you should have a print statement giving the required rejection rate. "
   ]
  },
  {
   "cell_type": "code",
   "execution_count": null,
   "id": "741a1179-c413-44c5-9196-0e9f4bdfedfc",
   "metadata": {},
   "outputs": [],
   "source": [
    "\n"
   ]
  },
  {
   "cell_type": "code",
   "execution_count": null,
   "id": "faac5cd8-ab3e-4814-85d2-cf9e1e0d3498",
   "metadata": {},
   "outputs": [],
   "source": []
  }
 ],
 "metadata": {
  "kernelspec": {
   "display_name": "Python 3 (ipykernel)",
   "language": "python",
   "name": "python3"
  },
  "language_info": {
   "codemirror_mode": {
    "name": "ipython",
    "version": 3
   },
   "file_extension": ".py",
   "mimetype": "text/x-python",
   "name": "python",
   "nbconvert_exporter": "python",
   "pygments_lexer": "ipython3",
   "version": "3.11.9"
  }
 },
 "nbformat": 4,
 "nbformat_minor": 5
}
