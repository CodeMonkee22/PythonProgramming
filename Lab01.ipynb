{
 "cells": [
  {
   "cell_type": "markdown",
   "metadata": {},
   "source": [
    "# MATHS1004 Mathematics for Data Science I\n",
    "## Computer Lab 1\n",
    "\n",
    "Hi! Welcome to Python 3. If you've made it this far, you've already figured out how to open a Jupyter Notebook, which is great news. This first lab is going to teach you how to find your way around Python and introduce some basic ways of doing maths in Python. \n",
    "\n",
    "Notebooks are a great way to program in Python -- they let us write and execute code in blocks, as well as write text like you might in a regular paper notebook. You should think of them like a \"lab book\" -- you can play around with code, and write notes about what you're doing as you go along.\n",
    "\n",
    "Let's get straight into it! Below this block of text is a grey box, with a piece of Python code (you can tell it's code because of the different font) written in it. I want you to click once inside that box, and then press `Ctrl + Enter` on your keyboard (or `Shift + Enter` if you happen to be using a Mac). Go on, try it out, and then we'll explain what has happened here. "
   ]
  },
  {
   "cell_type": "code",
   "execution_count": null,
   "metadata": {},
   "outputs": [],
   "source": [
    "print(\"Hello world!\")"
   ]
  },
  {
   "cell_type": "markdown",
   "metadata": {},
   "source": [
    "Congratulations! You've just executed your first Python program! And importantly, by the Laws of Introductory Programming Courses, it was the obligatory \"Hello world\" program. \n",
    "\n",
    "The little mark saying `In [1]:` to the left of the block means that this is the first code block you've input. As you execute more blocks of code that number will go up.\n",
    "\n",
    "Actually, straight away here we can get into problems. Here's an example.\n",
    "\n",
    "Execute the following piece of code:"
   ]
  },
  {
   "cell_type": "code",
   "execution_count": null,
   "metadata": {},
   "outputs": [],
   "source": [
    "a = 19"
   ]
  },
  {
   "cell_type": "markdown",
   "metadata": {},
   "source": [
    "This defines the *variable* `a`, and assigns it the value 19. Let's check that, by printing out `a` again:"
   ]
  },
  {
   "cell_type": "code",
   "execution_count": null,
   "metadata": {},
   "outputs": [],
   "source": [
    "a"
   ]
  },
  {
   "cell_type": "markdown",
   "metadata": {},
   "source": [
    "Cool! That number got saved in memory, so that we can access it again later. Now let's change `a`:"
   ]
  },
  {
   "cell_type": "code",
   "execution_count": null,
   "metadata": {},
   "outputs": [],
   "source": [
    "a = a + 1\n",
    "a"
   ]
  },
  {
   "cell_type": "markdown",
   "metadata": {},
   "source": [
    "The first line adds 1 to `a`, giving the number 20, and then assigns that to `a`, so that when we print `a` on the next line we get the output 20. \n",
    "\n",
    "(Side note: if you haven't seen this before you might be weirded out by the strange-looking equation $a = a + 1$, which doesn't have a solution. When programming the equals sign is an assignment operator, and it assigns the thing on the right of the equals into the thing on the left. Ask a tutor about this right now if you're confused!)\n",
    "\n",
    "Anyway, now, go back to the first time we printed out `a` and execute that block again. (It should be the `In [3]:` block the first time you run through this.) The output has changed from 19 to 20! And if you're reading through from the top without looking at the line numbers, it seems like something has gone wrong -- the variable `a` changed from 19 to 20 seemingly by itself.\n",
    "\n",
    "This is something to watch out for with Jupyter notebooks -- if you go back and re-execute cells you can change things, and mess up the flow of your work. You should always try and work by executing cells down the page, or at the very least keep track of those `In []:` and `Out []:` lines.\n",
    "\n",
    "\n"
   ]
  },
  {
   "cell_type": "markdown",
   "metadata": {},
   "source": [
    "## Basic Arithmetic with Python:"
   ]
  },
  {
   "cell_type": "markdown",
   "metadata": {},
   "source": [
    "We can carry out basic arithmetic operations with python. Lets start with a couple of variables. "
   ]
  },
  {
   "cell_type": "code",
   "execution_count": null,
   "metadata": {},
   "outputs": [],
   "source": [
    "x = 3\n",
    "y = 4"
   ]
  },
  {
   "cell_type": "markdown",
   "metadata": {},
   "source": [
    "We can add and substract with + and - "
   ]
  },
  {
   "cell_type": "code",
   "execution_count": null,
   "metadata": {},
   "outputs": [],
   "source": [
    "x+y"
   ]
  },
  {
   "cell_type": "code",
   "execution_count": null,
   "metadata": {},
   "outputs": [],
   "source": [
    "x-y"
   ]
  },
  {
   "cell_type": "markdown",
   "metadata": {},
   "source": [
    "We can multiply and divide with * and / "
   ]
  },
  {
   "cell_type": "code",
   "execution_count": null,
   "metadata": {},
   "outputs": [],
   "source": [
    "x*y"
   ]
  },
  {
   "cell_type": "code",
   "execution_count": null,
   "metadata": {},
   "outputs": [],
   "source": [
    "x/y"
   ]
  },
  {
   "cell_type": "markdown",
   "metadata": {},
   "source": [
    "Hopefully no surprises so far, but there is something new we have encountered here which is not obvious. Python has different types of numbers. Until we did $x/y$ all of our numbers were integers, but the answer to $x/y$ is a decimal so it is treated differently by Python, it is called a floating point number. \n",
    "The function type will return the type of the number (or in fact the type of any object in Python). "
   ]
  },
  {
   "cell_type": "code",
   "execution_count": null,
   "metadata": {},
   "outputs": [],
   "source": [
    "type(1)"
   ]
  },
  {
   "cell_type": "code",
   "execution_count": null,
   "metadata": {},
   "outputs": [],
   "source": [
    "type(0.75)"
   ]
  },
  {
   "cell_type": "markdown",
   "metadata": {},
   "source": [
    "In general floating point numbers are approximations, for example consider $y/x = 4/3$:"
   ]
  },
  {
   "cell_type": "code",
   "execution_count": null,
   "metadata": {},
   "outputs": [],
   "source": [
    "y/x"
   ]
  },
  {
   "cell_type": "markdown",
   "metadata": {},
   "source": [
    "Floating point numbers are also used to deal with very large and very small numbers for which scientific notation is used. The letter e followed by a number indicates 10 to that power, for example $1000 = 1e03$ and $0.024 = 2.4e-02$. "
   ]
  },
  {
   "cell_type": "code",
   "execution_count": null,
   "metadata": {},
   "outputs": [],
   "source": [
    "1/123456789"
   ]
  },
  {
   "cell_type": "code",
   "execution_count": null,
   "metadata": {},
   "outputs": [],
   "source": [
    "123456789*123456789"
   ]
  },
  {
   "cell_type": "code",
   "execution_count": null,
   "metadata": {},
   "outputs": [],
   "source": [
    "123456789*123456789.0"
   ]
  },
  {
   "cell_type": "markdown",
   "metadata": {},
   "source": [
    "Note the difference in the previous two answers. In the first the product of two integers is an integer, but in the second the decimal place makes it into a floating point number, so the result is given as a floating point number using scientific notation. \n"
   ]
  },
  {
   "cell_type": "markdown",
   "metadata": {},
   "source": [
    "In general division / results in a floating point number, even if the result could be represented as an integer"
   ]
  },
  {
   "cell_type": "code",
   "execution_count": null,
   "metadata": {},
   "outputs": [],
   "source": [
    "type(4/2)"
   ]
  },
  {
   "cell_type": "markdown",
   "metadata": {},
   "source": [
    "There is another type of division represented by // which always produces an integer "
   ]
  },
  {
   "cell_type": "code",
   "execution_count": null,
   "metadata": {},
   "outputs": [],
   "source": [
    "type(4//2) "
   ]
  },
  {
   "cell_type": "markdown",
   "metadata": {},
   "source": [
    "What happens if the result of the division is not an integer? Try it yourself and see what you can deduce"
   ]
  },
  {
   "cell_type": "code",
   "execution_count": null,
   "metadata": {},
   "outputs": [],
   "source": [
    "\n"
   ]
  },
  {
   "cell_type": "code",
   "execution_count": null,
   "metadata": {},
   "outputs": [],
   "source": []
  },
  {
   "cell_type": "markdown",
   "metadata": {},
   "source": [
    "What does it do? It rounds down to the nearest integer"
   ]
  },
  {
   "cell_type": "markdown",
   "metadata": {},
   "source": [
    "One final arithmetic operation is to raise a number to a power, for this we use \\** for example 3\\** 2 $= 3^2$"
   ]
  },
  {
   "cell_type": "code",
   "execution_count": null,
   "metadata": {},
   "outputs": [],
   "source": []
  },
  {
   "cell_type": "markdown",
   "metadata": {},
   "source": [
    "You can try out your own calculations below to test out these various operations "
   ]
  },
  {
   "cell_type": "code",
   "execution_count": null,
   "metadata": {},
   "outputs": [],
   "source": [
    "\n"
   ]
  },
  {
   "cell_type": "code",
   "execution_count": null,
   "metadata": {},
   "outputs": [],
   "source": []
  },
  {
   "cell_type": "markdown",
   "metadata": {},
   "source": [
    "Now let's test out what you have learnt. Do the following calculation: $\\frac{(123+987)^2 - 1000.1}{1.234\\times 10^5}$"
   ]
  },
  {
   "cell_type": "code",
   "execution_count": null,
   "metadata": {},
   "outputs": [],
   "source": []
  },
  {
   "cell_type": "markdown",
   "metadata": {},
   "source": [
    "Your answer should be 9.976498379254457"
   ]
  },
  {
   "cell_type": "markdown",
   "metadata": {},
   "source": [
    "## The math module "
   ]
  },
  {
   "cell_type": "markdown",
   "metadata": {},
   "source": [
    "Python has many modules which are used to access specialised operations. Before these can be used they must be imported. Many basic mathematical functions are contained in the math module, these are accessed with math.*function* \n",
    "where *function* is the name of the specific function we want to use, for example math.sqrt will calculate a square root. Lets start by trying it without importing, we are all bound to do this accidentally at some point so it will be good to recognise what it looks like"
   ]
  },
  {
   "cell_type": "code",
   "execution_count": null,
   "metadata": {},
   "outputs": [],
   "source": [
    "math.sqrt(4) "
   ]
  },
  {
   "cell_type": "markdown",
   "metadata": {},
   "source": [
    "We've received an error message because math is not recognised it, so we will import it and then try again"
   ]
  },
  {
   "cell_type": "code",
   "execution_count": null,
   "metadata": {},
   "outputs": [],
   "source": [
    "import math"
   ]
  },
  {
   "cell_type": "markdown",
   "metadata": {},
   "source": [
    "Now that we have imported it we can access it without having to import again for the rest of our session, try calculating another square root below without the import math command"
   ]
  },
  {
   "cell_type": "code",
   "execution_count": null,
   "metadata": {},
   "outputs": [],
   "source": []
  },
  {
   "cell_type": "markdown",
   "metadata": {},
   "source": [
    "The math module also allow access to some important constants, for example $\\pi$"
   ]
  },
  {
   "cell_type": "code",
   "execution_count": null,
   "metadata": {},
   "outputs": [],
   "source": [
    "math.pi"
   ]
  },
  {
   "cell_type": "markdown",
   "metadata": {},
   "source": [
    "You can see all of the functions provided by the math module here https://docs.python.org/3/library/math.html Some of them will be familiar to you and some not, we will introduce the ones we need as we encounter them throughout the course. \n",
    "See if you can find out how to do the following calculation:\n",
    "$\\sqrt{\\ln(5)+ \\sqrt[3]{2}}$"
   ]
  },
  {
   "cell_type": "code",
   "execution_count": null,
   "metadata": {},
   "outputs": [],
   "source": [
    "math.sqrt(math.log(5)+2**(1/3))"
   ]
  },
  {
   "cell_type": "markdown",
   "metadata": {},
   "source": [
    "Your answer should be 1.6939182277574598"
   ]
  },
  {
   "cell_type": "markdown",
   "metadata": {},
   "source": [
    "## Defining functions "
   ]
  },
  {
   "cell_type": "markdown",
   "metadata": {},
   "source": [
    "Run the cell below to define the function $f(x) = \\frac{(x^2+1)}{x-7}$."
   ]
  },
  {
   "cell_type": "code",
   "execution_count": null,
   "metadata": {},
   "outputs": [],
   "source": [
    "def f(x):\n",
    "    return (x**2+1)/(x-7)"
   ]
  },
  {
   "cell_type": "markdown",
   "metadata": {},
   "source": [
    "Note a couple of points of syntax, we need a semicolon : after the def command, and we must have the next line indented - Jupyter does this automatically. Included in the definition is a variable the function depends on, x, and Python is told what comes back after a function call with the keyword \"return\". \n",
    "\n",
    "Now we should be able to call values of our function. "
   ]
  },
  {
   "cell_type": "code",
   "execution_count": null,
   "metadata": {},
   "outputs": [],
   "source": [
    "f(1.35)"
   ]
  },
  {
   "cell_type": "code",
   "execution_count": null,
   "metadata": {},
   "outputs": [],
   "source": [
    "f(10)"
   ]
  },
  {
   "cell_type": "code",
   "execution_count": null,
   "metadata": {},
   "outputs": [],
   "source": [
    "f(7)"
   ]
  },
  {
   "cell_type": "markdown",
   "metadata": {},
   "source": [
    "If we look at the function we can see why the last one doesn't work, but it is good to be familiar with what errors look like when they occur. "
   ]
  },
  {
   "cell_type": "markdown",
   "metadata": {},
   "source": [
    "Python already has lots of mathematical functions built in, but remember that we need to import a package to use them. We will encounter a few different mathematical packages, including math which we have already seen. This time we will mostly use pylab, which can also be used to define common functions. Using this we can define a function $g(x) = e^{f(x)}$, where $f(x)$ is the function defined above. Remember that we have to import a package before using it. "
   ]
  },
  {
   "cell_type": "code",
   "execution_count": null,
   "metadata": {},
   "outputs": [],
   "source": [
    "import pylab\n",
    "def g(x):\n",
    "    return pylab.exp(f(x))\n",
    "g(1)"
   ]
  },
  {
   "cell_type": "markdown",
   "metadata": {},
   "source": [
    "We have also seen some piecewise functions, we can define these in python using if, elif and else commands. \n",
    "For example, suppose $p(x) = \\begin{cases} 0 \\text{ if } x < 1 \\\\ x \\text{ if } 1 \\leq x \\leq 2 \\\\ x^2 +3 \\text{ \n",
    "if } x > 2 \\end{cases}$"
   ]
  },
  {
   "cell_type": "code",
   "execution_count": null,
   "metadata": {},
   "outputs": [],
   "source": [
    "def p(x):\n",
    "    if x < 1:\n",
    "        return 0\n",
    "    elif 1 <= x <= 2:\n",
    "        return x\n",
    "    else:\n",
    "        return x**2 + 3\n",
    "    "
   ]
  },
  {
   "cell_type": "markdown",
   "metadata": {},
   "source": [
    "Now try evaluating some values of $p$, choose three values which test out the three different rules "
   ]
  },
  {
   "cell_type": "code",
   "execution_count": null,
   "metadata": {},
   "outputs": [],
   "source": []
  },
  {
   "cell_type": "code",
   "execution_count": null,
   "metadata": {},
   "outputs": [],
   "source": []
  },
  {
   "cell_type": "code",
   "execution_count": null,
   "metadata": {},
   "outputs": [],
   "source": [
    "\n"
   ]
  },
  {
   "cell_type": "markdown",
   "metadata": {},
   "source": [
    "Can you define the absolute value function $|x|$? \n",
    "Try it below (Hint: maybe give it the name $A(x)$)"
   ]
  },
  {
   "cell_type": "code",
   "execution_count": null,
   "metadata": {},
   "outputs": [],
   "source": []
  },
  {
   "cell_type": "markdown",
   "metadata": {},
   "source": [
    "Actually, we don't need to define it from scratch because it's already defined: "
   ]
  },
  {
   "cell_type": "code",
   "execution_count": null,
   "metadata": {},
   "outputs": [],
   "source": [
    "abs(-2)"
   ]
  },
  {
   "cell_type": "markdown",
   "metadata": {},
   "source": [
    "## Graphs"
   ]
  },
  {
   "cell_type": "markdown",
   "metadata": {},
   "source": [
    "We can use a package called pyplot to plot the graphs of functions. \n",
    "\n",
    "Here is a link to a pyplot tutorial for reference: [https://matplotlib.org/stable/tutorials/introductory/pyplot.html](https://matplotlib.org/stable/tutorials/introductory/pyplot.html)\n",
    "\n",
    "Generally the way plotting works is that you give it an array of x values, and a corresponding array of function values, and then it joins the points with lines. \n",
    "\n",
    "To handle these arrays the package numpy is useful (and we will find it useful for many other things throughout the course), it has a method called arange which creates an array we can use for the plot. \n",
    "\n",
    "Here is an example of plotting the function $y=x^2$"
   ]
  },
  {
   "cell_type": "code",
   "execution_count": null,
   "metadata": {},
   "outputs": [],
   "source": [
    "import matplotlib.pyplot as plt\n",
    "import numpy as np\n",
    "\n",
    "def q(x):\n",
    "    return x**2\n",
    "x = np.arange(0,10,1)\n",
    "# x is an array from 0 to 10 with spacing 1 between values)\n",
    "\n",
    "plt.plot(x,q(x))\n",
    "\n",
    "# You can just see that the parabola is made up of short straight line segments, can you make a change to the code\n",
    "# to make it smoother? \n",
    "\n",
    "# reduce the spacing in arange to make it smoother\n"
   ]
  },
  {
   "cell_type": "markdown",
   "metadata": {},
   "source": [
    "Now try plotting the graph of $f(x)$ (not $q(x)$ again) between $0$ and $4$ by taking $15$ samples.\n"
   ]
  },
  {
   "cell_type": "code",
   "execution_count": null,
   "metadata": {},
   "outputs": [],
   "source": []
  },
  {
   "cell_type": "code",
   "execution_count": null,
   "metadata": {},
   "outputs": [],
   "source": []
  },
  {
   "cell_type": "markdown",
   "metadata": {},
   "source": [
    "What happens if we try to plot it between $0$ and $8$ (say with sample size 0.0175)? (What about sample size 0.02?)\n",
    "\n",
    "Notice that the output is pretty sensitive to the sample size and also has some weird vertical-looking lines.\n",
    "\n",
    "What is going on here?"
   ]
  },
  {
   "cell_type": "code",
   "execution_count": null,
   "metadata": {},
   "outputs": [],
   "source": []
  },
  {
   "cell_type": "markdown",
   "metadata": {},
   "source": [
    "\n"
   ]
  },
  {
   "cell_type": "markdown",
   "metadata": {},
   "source": [
    "Sometimes we can run into trouble when plotting more complicated functions. The first issue arises when trying to plot a function defined using a math module function. Try the following"
   ]
  },
  {
   "cell_type": "code",
   "execution_count": null,
   "metadata": {},
   "outputs": [],
   "source": [
    "\n",
    "def s(x):\n",
    "    return math.sqrt(x)\n",
    "x = np.arange(0,10,0.1)\n",
    "plt.plot(x,s(x))"
   ]
  },
  {
   "cell_type": "markdown",
   "metadata": {},
   "source": [
    "The problem here is that the math.sqrt function expects to be given a number, not an array of numbers. One way to fix this is to build our own array of y values. "
   ]
  },
  {
   "cell_type": "code",
   "execution_count": null,
   "metadata": {},
   "outputs": [],
   "source": [
    "y = [s(i) for i in x]\n",
    "plt.plot(x,y)\n",
    "\n",
    "#note that i here is a dummy variable, it is just used in building the array, it has no meaning outside it "
   ]
  },
  {
   "cell_type": "markdown",
   "metadata": {},
   "source": [
    "Can you see another way of plotting this function based on what we already know? (Hint - can you express it without using the math module?)"
   ]
  },
  {
   "cell_type": "markdown",
   "metadata": {},
   "source": [
    "Answer: "
   ]
  },
  {
   "cell_type": "markdown",
   "metadata": {},
   "source": [
    "We can hit the same problem with piecewise functions, we define one earlier - p(x), try plotting it between -3 and 3 and see if you can fix it if it doesn't work."
   ]
  },
  {
   "cell_type": "code",
   "execution_count": null,
   "metadata": {},
   "outputs": [],
   "source": []
  },
  {
   "cell_type": "markdown",
   "metadata": {},
   "source": [
    "This gives vertical lines at the discontinuities, with a bit of effort (e.g. plotting each section separately) you can get rid of those if you need to. "
   ]
  },
  {
   "cell_type": "markdown",
   "metadata": {},
   "source": [
    "## Extensions\n"
   ]
  },
  {
   "cell_type": "markdown",
   "metadata": {},
   "source": [
    "A note on extensions: We want to encourage you to use Python to experiment with the mathematics we learn in the course, the extensions are recommended extra exercises you can try once you have finished the lab. You may not have time to look at them in the lab, and might not have looked at the relevant course material yet, but once you have you can come back and try them. "
   ]
  },
  {
   "cell_type": "markdown",
   "metadata": {},
   "source": [
    "Extension 1: Let $f(x) = \\frac{1}{1+x^2}$ and $g(x) = x -x^2$. Use python to define new functions representing each of $f\\circ g$ and $g \\circ f$ and plot each one to compare them. "
   ]
  },
  {
   "cell_type": "code",
   "execution_count": null,
   "metadata": {},
   "outputs": [],
   "source": []
  },
  {
   "cell_type": "markdown",
   "metadata": {},
   "source": [
    "Extension 2: use the pyplot tutorial to find out how to plot multiple graphs together, try plotting some functions with their inverse functions, for example the logit function from the course notes. Check that you see the expected symmetry!"
   ]
  },
  {
   "cell_type": "code",
   "execution_count": null,
   "metadata": {},
   "outputs": [],
   "source": []
  }
 ],
 "metadata": {
  "kernelspec": {
   "display_name": "Python 3 (ipykernel)",
   "language": "python",
   "name": "python3"
  },
  "language_info": {
   "codemirror_mode": {
    "name": "ipython",
    "version": 3
   },
   "file_extension": ".py",
   "mimetype": "text/x-python",
   "name": "python",
   "nbconvert_exporter": "python",
   "pygments_lexer": "ipython3",
   "version": "3.10.9"
  },
  "toc": {
   "base_numbering": 1,
   "nav_menu": {},
   "number_sections": true,
   "sideBar": true,
   "skip_h1_title": false,
   "title_cell": "Table of Contents",
   "title_sidebar": "Contents",
   "toc_cell": false,
   "toc_position": {},
   "toc_section_display": true,
   "toc_window_display": false
  }
 },
 "nbformat": 4,
 "nbformat_minor": 2
}
