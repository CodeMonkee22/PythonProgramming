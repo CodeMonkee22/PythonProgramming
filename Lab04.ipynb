{
 "cells": [
  {
   "cell_type": "markdown",
   "metadata": {},
   "source": [
    "\n",
    "# Computer Lab 4\n",
    "\n",
    "The aim of this lab is to delve into using `numpy` for doing calculations with matrices, and to show some applications. \n",
    "\n",
    "Let's start with a matrix \n",
    "$A = \\begin{bmatrix} 2 & 1 & -1\\\\ 1 & 3 & 2 \\\\ 1 & 1 & 1 \\end{bmatrix} $ \n",
    "and a column vector \n",
    "$\\mathbf{b} = \\begin{bmatrix} 2 \\\\ 1 \\\\ 2\\end{bmatrix}$\n",
    "\n",
    "We can define $A$ and $\\mathbf{b}$ in `numpy` as follows."
   ]
  },
  {
   "cell_type": "code",
   "execution_count": null,
   "metadata": {
    "ExecuteTime": {
     "end_time": "2019-08-27T01:57:29.607839Z",
     "start_time": "2019-08-27T01:57:29.301550Z"
    }
   },
   "outputs": [],
   "source": [
    "import numpy as np\n",
    "\n",
    "A = np.array([[2,1,-1], [1,3,2], [1,1,1]])\n",
    "b = np.array([2,1,2])\n",
    "\n",
    "print(A)\n",
    "print(b)"
   ]
  },
  {
   "cell_type": "markdown",
   "metadata": {},
   "source": [
    "$A$ is a *list of lists*, and wrapping `np.array()` around it and $\\mathbf{b}$ allows us to use `numpy` functions on them. For example, find out the order $\\mathbf{b}$ by appending `.shape` to the end of `b`:"
   ]
  },
  {
   "cell_type": "code",
   "execution_count": null,
   "metadata": {
    "ExecuteTime": {
     "end_time": "2019-08-27T01:57:45.816399Z",
     "start_time": "2019-08-27T01:57:45.806344Z"
    }
   },
   "outputs": [],
   "source": [
    "# Use .shape here\n"
   ]
  },
  {
   "cell_type": "markdown",
   "metadata": {},
   "source": [
    "That means that `b` has 3 rows and one column -- by default `numpy` stores vectors as *column vectors* (not row vectors)."
   ]
  },
  {
   "cell_type": "markdown",
   "metadata": {},
   "source": [
    "Find the shapes of the different vectors below."
   ]
  },
  {
   "cell_type": "code",
   "execution_count": null,
   "metadata": {},
   "outputs": [],
   "source": [
    "c = np.array([1,2,3])\n",
    "d = np.array([[1,2,3]])"
   ]
  },
  {
   "cell_type": "code",
   "execution_count": null,
   "metadata": {},
   "outputs": [],
   "source": [
    "# find the shapes here\n",
    "# it may be useful to remember that Jupyter will automatically print the last thing \n",
    "# in your code window which can be printed, to show more use the print command\n"
   ]
  },
  {
   "cell_type": "markdown",
   "metadata": {},
   "source": [
    "Notice the difference between how `numpy` defines column vectors ans row vectors?"
   ]
  },
  {
   "cell_type": "markdown",
   "metadata": {},
   "source": [
    "Some exercises:\n",
    "- Define the following matrices with `numpy`:\n",
    "$$\n",
    "X = \n",
    "\\begin{bmatrix}\n",
    "1 & 6\\\\\n",
    "3 & -1\n",
    "\\end{bmatrix}\n",
    "\\quad\n",
    "Y = \n",
    "\\begin{bmatrix}\n",
    "1 & 1 & 1\\\\\n",
    "1 & -2 & 0\n",
    "\\end{bmatrix}\n",
    "\\quad\n",
    "Z = \n",
    "\\begin{bmatrix}\n",
    "2 & 3 & 1\\\\\n",
    "0 & 1 & -2\n",
    "\\end{bmatrix}\n",
    "$$\n",
    "- Find (where possible, and look at what `numpy` gives you when not):\n",
    "$$\n",
    "X + Y; \\quad Y + Z; \\quad Y - Z\n",
    "$$"
   ]
  },
  {
   "cell_type": "code",
   "execution_count": null,
   "metadata": {
    "ExecuteTime": {
     "end_time": "2019-08-27T01:58:13.048746Z",
     "start_time": "2019-08-27T01:58:13.041985Z"
    }
   },
   "outputs": [],
   "source": [
    "# Define matrices here\n"
   ]
  },
  {
   "cell_type": "code",
   "execution_count": null,
   "metadata": {},
   "outputs": [],
   "source": [
    "# + them up here\n",
    "\n",
    "\n"
   ]
  },
  {
   "cell_type": "code",
   "execution_count": null,
   "metadata": {},
   "outputs": [],
   "source": []
  },
  {
   "cell_type": "code",
   "execution_count": null,
   "metadata": {},
   "outputs": [],
   "source": []
  },
  {
   "cell_type": "markdown",
   "metadata": {},
   "source": [
    "`np.matmul` does [matrix multiplication](https://docs.scipy.org/doc/numpy/reference/generated/numpy.matmul.html#numpy.matmul), and `.T` takes the [matrix transpose](https://docs.scipy.org/doc/numpy/reference/generated/numpy.transpose.html). Look at the syntax, and then find (where possible, or look at the error message):\n",
    "- $XY$\n",
    "- $ZX$\n",
    "- $Z^TX$\n",
    "- Confirm that $\\mathbf{x} = \\begin{bmatrix} 2 \\\\-1 \\\\1 \\end{bmatrix}$ is a solution of $A\\mathbf{x} = \\mathbf{b}$ (these were defined at the top of the page).\n",
    "\n"
   ]
  },
  {
   "cell_type": "code",
   "execution_count": null,
   "metadata": {},
   "outputs": [],
   "source": []
  },
  {
   "cell_type": "code",
   "execution_count": null,
   "metadata": {
    "ExecuteTime": {
     "end_time": "2019-08-27T02:00:25.747936Z",
     "start_time": "2019-08-27T02:00:25.737605Z"
    }
   },
   "outputs": [],
   "source": [
    "\n"
   ]
  },
  {
   "cell_type": "code",
   "execution_count": null,
   "metadata": {},
   "outputs": [],
   "source": []
  },
  {
   "cell_type": "code",
   "execution_count": null,
   "metadata": {},
   "outputs": [],
   "source": []
  },
  {
   "cell_type": "markdown",
   "metadata": {},
   "source": [
    "## Linear Regression"
   ]
  },
  {
   "cell_type": "code",
   "execution_count": null,
   "metadata": {},
   "outputs": [],
   "source": []
  },
  {
   "cell_type": "markdown",
   "metadata": {},
   "source": [
    "We will take what we've just learned and do some linear regression. You most likely haven't covered this section of the notes yet - that's OK, we'll take you through the steps here. \n",
    "\n",
    "In an Australian Federal Election some votes do not count because they are informal, meaning they do not follow the requirements for a correct vote. \n",
    "Suppose we wish to contruct a linear model to predict the informal vote rate based on how many candidates stood in the election in each electorate, under the hypothesis that if the ballot paper contains more candidates then there may be more informal votes. This data is provided below for all South Australian electorates at a recent election (source here https://results.aec.gov.au/27966/Website/HouseDivisionalResults-27966.htm)\n",
    "\n",
    "| Electorate | Informal Rate |Candidates |\n",
    "| --- | --- | --- |\n",
    "|Adelaide | 3.79 | 7 |\n",
    "| Barker| 6.96 | 9 |\n",
    "| Boothby| 4.44| 10 |\n",
    "| Grey | 6.93 | 9| \n",
    "| Hindmarsh | 5.71 |8 |\n",
    "| Kingston | 3.81 | 7 | \n",
    "| Makin | 4.13 | 6 | \n",
    "| Mayo | 5.05 | 9 |\n",
    "| Spence | 4.95 | 6 | \n",
    "| Sturt | 5.49 | 11 | \n",
    "\n",
    "\n",
    "The aim is to create a linear model of the form \n",
    "$y_i = \\beta_0 + \\beta x_i$\n",
    "where $y_i$ is the informal rate for electorate $i$, $x_i$ is the number of candidates in electorate $i$, and $\\beta_0,\\beta_1$ are constants which we need to find. \n",
    "\n",
    "Now the data will not fit such a model exactly so in reality we will have \n",
    "$y_i = \\beta_0 + \\beta x_i + e_i$\n",
    "for some error $e_i$. \n",
    "\n",
    "These errors are a measure of how good the model is, so we want to choose $\\beta_0,\\beta_1$ to make these as small as possible - fortunately there is a formula for doing this, we just need to put everything in matrix form. \n",
    "\n",
    "This matrix equation is $\\mathbf{y} = X\\mathbf{\\beta} + \\mathbf{e}$ where \n",
    "$\\mathbf{y} = \\begin{bmatrix} y_1 \\\\ \\vdots \\\\ y_n\\end{bmatrix}$, $X = \\begin{bmatrix} 1 & x_1 \\\\ \\vdots & \\vdots \\\\ 1 & x_n \\end{bmatrix}$, $\\mathbf{\\beta} = \\begin{bmatrix} \\beta_0 \\\\ \\beta_1 \\end{bmatrix}$ and $\\mathbf{e} = \\begin{bmatrix} e_0 \\\\ \\vdots \\\\ e_n \\end{bmatrix}$.\n",
    "\n",
    "\n",
    "$X$ is called a design matrix, $\\mathbf{y}$ a response variable vector. We'll start by defining those. "
   ]
  },
  {
   "cell_type": "code",
   "execution_count": null,
   "metadata": {},
   "outputs": [],
   "source": [
    "X = np.array([[1, 7], \n",
    "              [1, 9], \n",
    "              [1, 10],\n",
    "              [1, 9],\n",
    "              [1, 8],\n",
    "              [1, 7], \n",
    "              [1, 6], \n",
    "              [1, 9],\n",
    "              [1, 6],\n",
    "              [1, 11],])\n",
    "\n",
    "y = np.array([3.79,6.96,4.44,6.93,5.71,3.81,4.13,5.05,4.95,5.49])"
   ]
  },
  {
   "cell_type": "markdown",
   "metadata": {},
   "source": [
    "Why is there a column of 1's there? \n",
    "\n",
    "Now here comes the fun part! Let's fit the linear regression! Use our equation to find our regression coefficents $\\hat{\\beta}$ using the following formula. You may need to do some Googling on your own to figure out how to *find the matrix inverse using numpy*.\n",
    "\n",
    "$$\\hat{\\boldsymbol{\\beta}}=\\left(X^{T} X\\right)^{-1} X^{T} \\boldsymbol{y}$$"
   ]
  },
  {
   "cell_type": "code",
   "execution_count": null,
   "metadata": {},
   "outputs": [],
   "source": [
    "Beta = # Your task here! Calculate that Beta\n"
   ]
  },
  {
   "cell_type": "markdown",
   "metadata": {},
   "source": [
    "These are the coefficents of the linear regression. They tell us what the relationships between our variable are! This is a formula $y = \\beta_0 + \\beta_1 x$ where $x$ is the number of candidates and $y$ is the informal rate. \n",
    "\n",
    "We would like to know the error vector $\\mathbf{e}$ - can you find this? (Hint: look at the matrix equation involving $X,\\mathbf{y},\\mathbf{\\beta}$ and $\\mathbf{e}$ which we defined above.) \n",
    "\n"
   ]
  },
  {
   "cell_type": "code",
   "execution_count": null,
   "metadata": {},
   "outputs": [],
   "source": [
    "e = #enter here \n"
   ]
  },
  {
   "cell_type": "markdown",
   "metadata": {},
   "source": [
    "We can view the model performance in more detail by calculating $X\\hat{\\beta}$ and comparing with $y$ side by side, as well as looking at the errror $e$.  We can do this by putting the columns together into an array using np.c_ which collects together columns into an array, for example np.c_[a,b,c] would make an array with column vectors a,b,c as columns. Make an array with  $X\\hat{\\beta}$, $y$ and $e$.\n",
    "\n",
    " A simple measure of the overall error is given by the norm of a vector (the square root of the sum of the squares of the entries). We can use numpy to find the norm of a vector v by np.linalg.norm(v). Find the norm of the error vector here as well. \n"
   ]
  },
  {
   "cell_type": "code",
   "execution_count": null,
   "metadata": {},
   "outputs": [],
   "source": []
  },
  {
   "cell_type": "markdown",
   "metadata": {},
   "source": [
    "## Linear Regression with multiple variables"
   ]
  },
  {
   "cell_type": "markdown",
   "metadata": {},
   "source": [
    "To improve our model we might want to try incorporating some other factors. Some socio-economic data might be relevant, there is electorate-level data available here https://www.ausstats.abs.gov.au/ausstats/subscriber.nsf/0/DE95D3A11C2436F9CA2583AF0071AB19/$File/south%20australia%20profiles.pdf \n",
    "\n",
    "We will now include the proportion in the electorate who are recent migrants (as they may be less familiar with the voting system), and the proportion with year 12 or equivalent education.  \n",
    "\n",
    "| Electorate | Informal Rate | Candidates | Migrants | Education\n",
    "| --- | --- | --- | --- | --- | \n",
    "|Adelaide | 3.79 | 7  | 17.6 | 82.4 |\n",
    "| Barker|6.96 | 9 | 3.2 | 57.9 | \n",
    "| Boothby| 4.44| 10| 9.8 | 82.8 | \n",
    "| Grey | 6.93 | 9 | 1.9 | 53.5 | \n",
    "| Hindmarsh |  5.71 |8  | 8.4 | 76.7 | \n",
    "| Kingston |4.13 | 6 |6.2| 69.1 | \n",
    "| Makin | 4.49 |  5 | 9.0 | 73.1 | \n",
    "| Mayo | 5.05 | 9 | 3.1 | 70.8 | \n",
    "| Spence | 4.95 | 6 |  7.2 | 58.1 | \n",
    "| Sturt | 5.49 | 11| 12.7 | 85.3 |\n",
    "\n",
    "We can now use exactly the same approach, we just need to add in more columns to our matrix. "
   ]
  },
  {
   "cell_type": "code",
   "execution_count": null,
   "metadata": {},
   "outputs": [],
   "source": [
    "X = np.array([[1, 7, 17.6, 82.4], \n",
    "              [1, 8, 3.2, 57.9], \n",
    "              [1, 10, 9.8, 82.8],\n",
    "              [1, 9, 1.9, 53.5],\n",
    "              [1, 8, 8.4, 76.7],\n",
    "              [1, 6, 6.2, 69.1], \n",
    "              [1, 5, 9.0, 73.1], \n",
    "              [1, 9, 3.1, 70.8],\n",
    "              [1, 6, 7.2, 58.1],\n",
    "              [1, 11, 12.7, 85.3]])\n",
    "\n",
    "y = np.array([3.79,6.96,4.44,6.93,5.71,3.81,4.13,5.05,4.95,5.49])\n",
    "\n",
    "#Now calculate the coefficients in the model here \n"
   ]
  },
  {
   "cell_type": "markdown",
   "metadata": {},
   "source": [
    "Now you can try the new model on the data to see if it fits better as we did with the one variable model, try this. \n",
    "\n",
    "\n"
   ]
  },
  {
   "cell_type": "code",
   "execution_count": null,
   "metadata": {},
   "outputs": [],
   "source": []
  },
  {
   "cell_type": "markdown",
   "metadata": {},
   "source": [
    "We could also try the model on some electorates from other states. \n",
    "\n",
    "I have chosen a few below \n",
    "\n",
    "| Electorate | Informal Rate | Candidates | Migrants | Education\n",
    "| --- | --- | --- | --- | --- | \n",
    "| Aston | 3.27| 7 | 8.8 | 79.7 |\n",
    "| Ballarat | 5.03 | 8 | 3.0 | 68.6 | \n",
    "| Banks | 6.64 | 7 | 12.8 | 83.4 | \n",
    "| Barton | 7.48 | 5 | 19.2 | 83.9 |\n",
    "\n",
    "We want to use the Beta that we obtained from the South Australian data and test how well it predicts the informal rate on this data"
   ]
  },
  {
   "cell_type": "code",
   "execution_count": null,
   "metadata": {},
   "outputs": [],
   "source": [
    "#you can do the calculation here: \n",
    "\n",
    "\n"
   ]
  },
  {
   "cell_type": "markdown",
   "metadata": {},
   "source": [
    "Describe your findings here: \n"
   ]
  },
  {
   "cell_type": "markdown",
   "metadata": {},
   "source": [
    "One last note. In practice there are packages for carrying out linear regression, furthermore there are all sorts of statistical tools for determining how well the model matches the data, and which variables best predict behaviour but this goes well beyond the topic at hand, which is an application of matrices. "
   ]
  }
 ],
 "metadata": {
  "kernelspec": {
   "display_name": "Python 3 (ipykernel)",
   "language": "python",
   "name": "python3"
  },
  "language_info": {
   "codemirror_mode": {
    "name": "ipython",
    "version": 3
   },
   "file_extension": ".py",
   "mimetype": "text/x-python",
   "name": "python",
   "nbconvert_exporter": "python",
   "pygments_lexer": "ipython3",
   "version": "3.11.4"
  }
 },
 "nbformat": 4,
 "nbformat_minor": 4
}
